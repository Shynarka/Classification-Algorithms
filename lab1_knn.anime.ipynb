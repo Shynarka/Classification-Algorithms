{
 "cells": [
  {
   "cell_type": "code",
   "execution_count": 24,
   "metadata": {},
   "outputs": [],
   "source": [
    "#https://greenteapress.com/wp/think-stats-2e/\n",
    "from __future__ import print_function, division\n",
    "import statsmodels.formula.api as smf\n",
    "from IPython.display import display\n",
    "import pandas as pd\n",
    "import numpy as np\n",
    "import matplotlib.pyplot as plt\n",
    "import random\n",
    "import warnings\n",
    "warnings.filterwarnings('ignore', category=FutureWarning)\n",
    "%matplotlib inline\n",
    "import thinkstats2\n",
    "from thinkstats2 import Mean, MeanVar, Var, Std, Cov\n",
    "import thinkplot\n",
    "import math\n",
    "import first\n",
    "import brfss\n",
    "import nsfg\n",
    "import calendar\n",
    "import re\n",
    "import statsmodels.tsa.stattools as smtsa\n",
    "import survival\n",
    "from collections import Counter\n",
    "import seaborn as sns\n"
   ]
  },
  {
   "cell_type": "code",
   "execution_count": 8,
   "metadata": {},
   "outputs": [],
   "source": [
    "pd.set_option('max_column',500)\n",
    "dataset = pd.read_csv('dataanime.csv')"
   ]
  },
  {
   "cell_type": "code",
   "execution_count": 9,
   "metadata": {},
   "outputs": [
    {
     "data": {
      "text/html": [
       "<div>\n",
       "<style scoped>\n",
       "    .dataframe tbody tr th:only-of-type {\n",
       "        vertical-align: middle;\n",
       "    }\n",
       "\n",
       "    .dataframe tbody tr th {\n",
       "        vertical-align: top;\n",
       "    }\n",
       "\n",
       "    .dataframe thead th {\n",
       "        text-align: right;\n",
       "    }\n",
       "</style>\n",
       "<table border=\"1\" class=\"dataframe\">\n",
       "  <thead>\n",
       "    <tr style=\"text-align: right;\">\n",
       "      <th></th>\n",
       "      <th>Title</th>\n",
       "      <th>Type</th>\n",
       "      <th>Episodes</th>\n",
       "      <th>Status</th>\n",
       "      <th>Start airing</th>\n",
       "      <th>End airing</th>\n",
       "      <th>Starting season</th>\n",
       "      <th>Broadcast time</th>\n",
       "      <th>Producers</th>\n",
       "      <th>Licensors</th>\n",
       "      <th>Studios</th>\n",
       "      <th>Sources</th>\n",
       "      <th>Genres</th>\n",
       "      <th>Duration</th>\n",
       "      <th>Rating</th>\n",
       "      <th>Score</th>\n",
       "      <th>Scored by</th>\n",
       "      <th>Members</th>\n",
       "      <th>Favorites</th>\n",
       "      <th>Description</th>\n",
       "    </tr>\n",
       "  </thead>\n",
       "  <tbody>\n",
       "    <tr>\n",
       "      <th>879</th>\n",
       "      <td>Koyomimonogatari</td>\n",
       "      <td>ONA</td>\n",
       "      <td>12</td>\n",
       "      <td>Finished Airing</td>\n",
       "      <td>2016-1-10</td>\n",
       "      <td>2016-3-27</td>\n",
       "      <td>-</td>\n",
       "      <td>-</td>\n",
       "      <td>Aniplex,Kodansha</td>\n",
       "      <td>Aniplex of America</td>\n",
       "      <td>Shaft</td>\n",
       "      <td>Light novel</td>\n",
       "      <td>Mystery,Comedy,Supernatural</td>\n",
       "      <td>14 min. per ep.</td>\n",
       "      <td>R</td>\n",
       "      <td>7.77</td>\n",
       "      <td>43529</td>\n",
       "      <td>91001</td>\n",
       "      <td>195</td>\n",
       "      <td>In each episode, Koyomi is presented with a my...</td>\n",
       "    </tr>\n",
       "    <tr>\n",
       "      <th>963</th>\n",
       "      <td>Kemono Friends</td>\n",
       "      <td>TV</td>\n",
       "      <td>12</td>\n",
       "      <td>Finished Airing</td>\n",
       "      <td>2017-1-11</td>\n",
       "      <td>2017-3-29</td>\n",
       "      <td>Winter</td>\n",
       "      <td>Wednesdays at 01:35 (JST)</td>\n",
       "      <td>TV Tokyo,Victor Entertainment,AT-X,KlockWorx,f...</td>\n",
       "      <td>Crunchyroll</td>\n",
       "      <td>Yaoyorozu</td>\n",
       "      <td>Game</td>\n",
       "      <td>Adventure,Comedy,Fantasy</td>\n",
       "      <td>24 min. per ep.</td>\n",
       "      <td>PG</td>\n",
       "      <td>7.73</td>\n",
       "      <td>17056</td>\n",
       "      <td>44690</td>\n",
       "      <td>751</td>\n",
       "      <td>Japari Park is an untamed paradise where many ...</td>\n",
       "    </tr>\n",
       "    <tr>\n",
       "      <th>546</th>\n",
       "      <td>Zan Sayonara Zetsubou Sensei</td>\n",
       "      <td>TV</td>\n",
       "      <td>13</td>\n",
       "      <td>Finished Airing</td>\n",
       "      <td>2009-7-5</td>\n",
       "      <td>2009-9-27</td>\n",
       "      <td>Summer</td>\n",
       "      <td>-</td>\n",
       "      <td>-</td>\n",
       "      <td>-</td>\n",
       "      <td>Shaft</td>\n",
       "      <td>Manga</td>\n",
       "      <td>Parody,Comedy,School</td>\n",
       "      <td>23 min. per ep.</td>\n",
       "      <td>R</td>\n",
       "      <td>7.97</td>\n",
       "      <td>27166</td>\n",
       "      <td>66220</td>\n",
       "      <td>179</td>\n",
       "      <td>Nozomu Itoshiki is still the bizarre teacher o...</td>\n",
       "    </tr>\n",
       "    <tr>\n",
       "      <th>1338</th>\n",
       "      <td>Yu☆Gi☆Oh! Duel Monsters</td>\n",
       "      <td>TV</td>\n",
       "      <td>224</td>\n",
       "      <td>Finished Airing</td>\n",
       "      <td>2000-4-18</td>\n",
       "      <td>2004-9-29</td>\n",
       "      <td>Spring</td>\n",
       "      <td>-</td>\n",
       "      <td>Nihon Ad Systems</td>\n",
       "      <td>4Kids Entertainment,Flatiron Film Company</td>\n",
       "      <td>Studio Gallop</td>\n",
       "      <td>Manga</td>\n",
       "      <td>Adventure,Game,Shounen</td>\n",
       "      <td>23 min. per ep.</td>\n",
       "      <td>PG-13</td>\n",
       "      <td>7.57</td>\n",
       "      <td>112045</td>\n",
       "      <td>181885</td>\n",
       "      <td>2574</td>\n",
       "      <td>Legend says that the enigmatic Millennium Puzz...</td>\n",
       "    </tr>\n",
       "    <tr>\n",
       "      <th>1535</th>\n",
       "      <td>Mahou Shoujo Lyrical Nanoha</td>\n",
       "      <td>TV</td>\n",
       "      <td>13</td>\n",
       "      <td>Finished Airing</td>\n",
       "      <td>2004-10-3</td>\n",
       "      <td>2004-12-26</td>\n",
       "      <td>Fall</td>\n",
       "      <td>-</td>\n",
       "      <td>Starchild Records,Omnibus Japan</td>\n",
       "      <td>Geneon Entertainment USA</td>\n",
       "      <td>Seven Arcs</td>\n",
       "      <td>Original</td>\n",
       "      <td>Action,Comedy,Drama,Magic,Super Power</td>\n",
       "      <td>25 min. per ep.</td>\n",
       "      <td>PG-13</td>\n",
       "      <td>7.49</td>\n",
       "      <td>31358</td>\n",
       "      <td>72891</td>\n",
       "      <td>926</td>\n",
       "      <td>Third grader Takamachi Nanoha stumbled upon an...</td>\n",
       "    </tr>\n",
       "  </tbody>\n",
       "</table>\n",
       "</div>"
      ],
      "text/plain": [
       "                             Title Type Episodes           Status  \\\n",
       "879               Koyomimonogatari  ONA       12  Finished Airing   \n",
       "963                 Kemono Friends   TV       12  Finished Airing   \n",
       "546   Zan Sayonara Zetsubou Sensei   TV       13  Finished Airing   \n",
       "1338       Yu☆Gi☆Oh! Duel Monsters   TV      224  Finished Airing   \n",
       "1535   Mahou Shoujo Lyrical Nanoha   TV       13  Finished Airing   \n",
       "\n",
       "     Start airing  End airing Starting season             Broadcast time  \\\n",
       "879     2016-1-10   2016-3-27               -                          -   \n",
       "963     2017-1-11   2017-3-29          Winter  Wednesdays at 01:35 (JST)   \n",
       "546      2009-7-5   2009-9-27          Summer                          -   \n",
       "1338    2000-4-18   2004-9-29          Spring                          -   \n",
       "1535    2004-10-3  2004-12-26            Fall                          -   \n",
       "\n",
       "                                              Producers  \\\n",
       "879                                    Aniplex,Kodansha   \n",
       "963   TV Tokyo,Victor Entertainment,AT-X,KlockWorx,f...   \n",
       "546                                                   -   \n",
       "1338                                   Nihon Ad Systems   \n",
       "1535                    Starchild Records,Omnibus Japan   \n",
       "\n",
       "                                      Licensors        Studios      Sources  \\\n",
       "879                          Aniplex of America          Shaft  Light novel   \n",
       "963                                 Crunchyroll      Yaoyorozu         Game   \n",
       "546                                           -          Shaft        Manga   \n",
       "1338  4Kids Entertainment,Flatiron Film Company  Studio Gallop        Manga   \n",
       "1535                   Geneon Entertainment USA     Seven Arcs     Original   \n",
       "\n",
       "                                     Genres         Duration Rating  Score  \\\n",
       "879             Mystery,Comedy,Supernatural  14 min. per ep.      R   7.77   \n",
       "963                Adventure,Comedy,Fantasy  24 min. per ep.     PG   7.73   \n",
       "546                    Parody,Comedy,School  23 min. per ep.      R   7.97   \n",
       "1338                 Adventure,Game,Shounen  23 min. per ep.  PG-13   7.57   \n",
       "1535  Action,Comedy,Drama,Magic,Super Power  25 min. per ep.  PG-13   7.49   \n",
       "\n",
       "      Scored by  Members  Favorites  \\\n",
       "879       43529    91001        195   \n",
       "963       17056    44690        751   \n",
       "546       27166    66220        179   \n",
       "1338     112045   181885       2574   \n",
       "1535      31358    72891        926   \n",
       "\n",
       "                                            Description  \n",
       "879   In each episode, Koyomi is presented with a my...  \n",
       "963   Japari Park is an untamed paradise where many ...  \n",
       "546   Nozomu Itoshiki is still the bizarre teacher o...  \n",
       "1338  Legend says that the enigmatic Millennium Puzz...  \n",
       "1535  Third grader Takamachi Nanoha stumbled upon an...  "
      ]
     },
     "execution_count": 9,
     "metadata": {},
     "output_type": "execute_result"
    }
   ],
   "source": [
    "dataset.sample(5)"
   ]
  },
  {
   "cell_type": "code",
   "execution_count": 10,
   "metadata": {},
   "outputs": [
    {
     "data": {
      "text/plain": [
       "Index(['Title', 'Type', 'Episodes', 'Status', 'Start airing', 'End airing',\n",
       "       'Starting season', 'Broadcast time', 'Producers', 'Licensors',\n",
       "       'Studios', 'Sources', 'Genres', 'Duration', 'Rating', 'Score',\n",
       "       'Scored by', 'Members', 'Favorites', 'Description'],\n",
       "      dtype='object')"
      ]
     },
     "execution_count": 10,
     "metadata": {},
     "output_type": "execute_result"
    }
   ],
   "source": [
    "dataset.keys()"
   ]
  },
  {
   "cell_type": "code",
   "execution_count": 11,
   "metadata": {},
   "outputs": [
    {
     "name": "stdout",
     "output_type": "stream",
     "text": [
      "<class 'pandas.core.frame.DataFrame'>\n",
      "RangeIndex: 1563 entries, 0 to 1562\n",
      "Data columns (total 20 columns):\n",
      "Title              1563 non-null object\n",
      "Type               1563 non-null object\n",
      "Episodes           1563 non-null object\n",
      "Status             1563 non-null object\n",
      "Start airing       1563 non-null object\n",
      "End airing         1563 non-null object\n",
      "Starting season    1563 non-null object\n",
      "Broadcast time     1563 non-null object\n",
      "Producers          1563 non-null object\n",
      "Licensors          1563 non-null object\n",
      "Studios            1563 non-null object\n",
      "Sources            1563 non-null object\n",
      "Genres             1563 non-null object\n",
      "Duration           1563 non-null object\n",
      "Rating             1563 non-null object\n",
      "Score              1563 non-null float64\n",
      "Scored by          1563 non-null int64\n",
      "Members            1563 non-null int64\n",
      "Favorites          1563 non-null int64\n",
      "Description        1563 non-null object\n",
      "dtypes: float64(1), int64(3), object(16)\n",
      "memory usage: 244.3+ KB\n"
     ]
    }
   ],
   "source": [
    "dataset.info()"
   ]
  },
  {
   "cell_type": "code",
   "execution_count": 12,
   "metadata": {},
   "outputs": [
    {
     "data": {
      "text/plain": [
       "Title              1563\n",
       "Type                  6\n",
       "Episodes            107\n",
       "Status                2\n",
       "Start airing       1170\n",
       "End airing          761\n",
       "Starting season       5\n",
       "Broadcast time      199\n",
       "Producers           809\n",
       "Licensors           111\n",
       "Studios             200\n",
       "Sources              14\n",
       "Genres             1004\n",
       "Duration            171\n",
       "Rating                5\n",
       "Score               146\n",
       "Scored by          1548\n",
       "Members            1548\n",
       "Favorites           924\n",
       "Description        1545\n",
       "dtype: int64"
      ]
     },
     "execution_count": 12,
     "metadata": {},
     "output_type": "execute_result"
    }
   ],
   "source": [
    "dataset.nunique()"
   ]
  },
  {
   "cell_type": "code",
   "execution_count": 13,
   "metadata": {},
   "outputs": [],
   "source": [
    "dataset=dataset.rename(columns=lambda x: x.replace(' ', '_'))"
   ]
  },
  {
   "cell_type": "code",
   "execution_count": 14,
   "metadata": {},
   "outputs": [],
   "source": [
    "cleaned_data=dataset.drop(['Title','Episodes' ,'Producers','Licensors','Starting_season','Studios','Genres', 'Duration', 'Members','Favorites','Description','Start_airing' ,'End_airing', 'Broadcast_time' ,'Scored_by'],axis=1) "
   ]
  },
  {
   "cell_type": "code",
   "execution_count": 15,
   "metadata": {},
   "outputs": [
    {
     "name": "stdout",
     "output_type": "stream",
     "text": [
      "<class 'pandas.core.frame.DataFrame'>\n",
      "RangeIndex: 1563 entries, 0 to 1562\n",
      "Data columns (total 5 columns):\n",
      "Type       1563 non-null object\n",
      "Status     1563 non-null object\n",
      "Sources    1563 non-null object\n",
      "Rating     1563 non-null object\n",
      "Score      1563 non-null float64\n",
      "dtypes: float64(1), object(4)\n",
      "memory usage: 61.1+ KB\n"
     ]
    }
   ],
   "source": [
    "cleaned_data.info()"
   ]
  },
  {
   "cell_type": "code",
   "execution_count": 16,
   "metadata": {},
   "outputs": [
    {
     "data": {
      "text/html": [
       "<div>\n",
       "<style scoped>\n",
       "    .dataframe tbody tr th:only-of-type {\n",
       "        vertical-align: middle;\n",
       "    }\n",
       "\n",
       "    .dataframe tbody tr th {\n",
       "        vertical-align: top;\n",
       "    }\n",
       "\n",
       "    .dataframe thead th {\n",
       "        text-align: right;\n",
       "    }\n",
       "</style>\n",
       "<table border=\"1\" class=\"dataframe\">\n",
       "  <thead>\n",
       "    <tr style=\"text-align: right;\">\n",
       "      <th></th>\n",
       "      <th>Type</th>\n",
       "      <th>Status</th>\n",
       "      <th>Sources</th>\n",
       "      <th>Rating</th>\n",
       "      <th>Score</th>\n",
       "    </tr>\n",
       "  </thead>\n",
       "  <tbody>\n",
       "    <tr>\n",
       "      <th>0</th>\n",
       "      <td>TV</td>\n",
       "      <td>Finished Airing</td>\n",
       "      <td>Manga</td>\n",
       "      <td>R</td>\n",
       "      <td>9.25</td>\n",
       "    </tr>\n",
       "    <tr>\n",
       "      <th>1</th>\n",
       "      <td>Movie</td>\n",
       "      <td>Finished Airing</td>\n",
       "      <td>Original</td>\n",
       "      <td>PG-13</td>\n",
       "      <td>9.19</td>\n",
       "    </tr>\n",
       "    <tr>\n",
       "      <th>2</th>\n",
       "      <td>TV</td>\n",
       "      <td>Finished Airing</td>\n",
       "      <td>Manga</td>\n",
       "      <td>R</td>\n",
       "      <td>9.16</td>\n",
       "    </tr>\n",
       "    <tr>\n",
       "      <th>3</th>\n",
       "      <td>TV</td>\n",
       "      <td>Currently Airing</td>\n",
       "      <td>Visual novel</td>\n",
       "      <td>PG-13</td>\n",
       "      <td>9.16</td>\n",
       "    </tr>\n",
       "    <tr>\n",
       "      <th>4</th>\n",
       "      <td>TV</td>\n",
       "      <td>Finished Airing</td>\n",
       "      <td>Visual novel</td>\n",
       "      <td>PG-13</td>\n",
       "      <td>9.14</td>\n",
       "    </tr>\n",
       "  </tbody>\n",
       "</table>\n",
       "</div>"
      ],
      "text/plain": [
       "    Type            Status       Sources Rating  Score\n",
       "0     TV   Finished Airing         Manga      R   9.25\n",
       "1  Movie   Finished Airing      Original  PG-13   9.19\n",
       "2     TV   Finished Airing         Manga      R   9.16\n",
       "3     TV  Currently Airing  Visual novel  PG-13   9.16\n",
       "4     TV   Finished Airing  Visual novel  PG-13   9.14"
      ]
     },
     "execution_count": 16,
     "metadata": {},
     "output_type": "execute_result"
    }
   ],
   "source": [
    "cleaned_data.head()"
   ]
  },
  {
   "cell_type": "code",
   "execution_count": 88,
   "metadata": {},
   "outputs": [
    {
     "data": {
      "text/plain": [
       "TV       821\n",
       "Movie    333\n",
       "Name: Type, dtype: int64"
      ]
     },
     "execution_count": 88,
     "metadata": {},
     "output_type": "execute_result"
    }
   ],
   "source": [
    "cleaned_data.Type.value_counts()"
   ]
  },
  {
   "cell_type": "code",
   "execution_count": 18,
   "metadata": {},
   "outputs": [],
   "source": [
    "cleaned_data.dropna(inplace=True) "
   ]
  },
  {
   "cell_type": "code",
   "execution_count": 87,
   "metadata": {},
   "outputs": [],
   "source": [
    "cleaned_data=cleaned_data[cleaned_data.Type!='Music']\n",
    "cleaned_data=cleaned_data[cleaned_data.Type!='ONA']\n",
    "cleaned_data=cleaned_data[cleaned_data.Type!='Special']\n",
    "cleaned_data=cleaned_data[cleaned_data.Type!='OVA']"
   ]
  },
  {
   "cell_type": "code",
   "execution_count": 20,
   "metadata": {},
   "outputs": [
    {
     "data": {
      "text/plain": [
       "Type       0\n",
       "Status     0\n",
       "Sources    0\n",
       "Rating     0\n",
       "Score      0\n",
       "dtype: int64"
      ]
     },
     "execution_count": 20,
     "metadata": {},
     "output_type": "execute_result"
    }
   ],
   "source": [
    "cleaned_data.isna().sum()"
   ]
  },
  {
   "cell_type": "code",
   "execution_count": 39,
   "metadata": {},
   "outputs": [
    {
     "data": {
      "text/html": [
       "<div>\n",
       "<style scoped>\n",
       "    .dataframe tbody tr th:only-of-type {\n",
       "        vertical-align: middle;\n",
       "    }\n",
       "\n",
       "    .dataframe tbody tr th {\n",
       "        vertical-align: top;\n",
       "    }\n",
       "\n",
       "    .dataframe thead th {\n",
       "        text-align: right;\n",
       "    }\n",
       "</style>\n",
       "<table border=\"1\" class=\"dataframe\">\n",
       "  <thead>\n",
       "    <tr style=\"text-align: right;\">\n",
       "      <th></th>\n",
       "      <th>Type</th>\n",
       "      <th>Status</th>\n",
       "      <th>Sources</th>\n",
       "      <th>Rating</th>\n",
       "      <th>Score</th>\n",
       "    </tr>\n",
       "  </thead>\n",
       "  <tbody>\n",
       "    <tr>\n",
       "      <th>0</th>\n",
       "      <td>TV</td>\n",
       "      <td>Finished_Airing</td>\n",
       "      <td>Manga</td>\n",
       "      <td>R</td>\n",
       "      <td>9.25</td>\n",
       "    </tr>\n",
       "    <tr>\n",
       "      <th>1</th>\n",
       "      <td>Movie</td>\n",
       "      <td>Finished_Airing</td>\n",
       "      <td>Original</td>\n",
       "      <td>PG-13</td>\n",
       "      <td>9.19</td>\n",
       "    </tr>\n",
       "    <tr>\n",
       "      <th>2</th>\n",
       "      <td>TV</td>\n",
       "      <td>Finished_Airing</td>\n",
       "      <td>Manga</td>\n",
       "      <td>R</td>\n",
       "      <td>9.16</td>\n",
       "    </tr>\n",
       "    <tr>\n",
       "      <th>3</th>\n",
       "      <td>TV</td>\n",
       "      <td>Currently_Airing</td>\n",
       "      <td>Visual novel</td>\n",
       "      <td>PG-13</td>\n",
       "      <td>9.16</td>\n",
       "    </tr>\n",
       "    <tr>\n",
       "      <th>4</th>\n",
       "      <td>TV</td>\n",
       "      <td>Finished_Airing</td>\n",
       "      <td>Visual novel</td>\n",
       "      <td>PG-13</td>\n",
       "      <td>9.14</td>\n",
       "    </tr>\n",
       "  </tbody>\n",
       "</table>\n",
       "</div>"
      ],
      "text/plain": [
       "    Type            Status       Sources Rating  Score\n",
       "0     TV   Finished_Airing         Manga      R   9.25\n",
       "1  Movie   Finished_Airing      Original  PG-13   9.19\n",
       "2     TV   Finished_Airing         Manga      R   9.16\n",
       "3     TV  Currently_Airing  Visual novel  PG-13   9.16\n",
       "4     TV   Finished_Airing  Visual novel  PG-13   9.14"
      ]
     },
     "execution_count": 39,
     "metadata": {},
     "output_type": "execute_result"
    }
   ],
   "source": [
    "cleaned_data.head()"
   ]
  },
  {
   "cell_type": "code",
   "execution_count": 25,
   "metadata": {},
   "outputs": [
    {
     "data": {
      "text/plain": [
       "<matplotlib.axes._subplots.AxesSubplot at 0x12d98928c50>"
      ]
     },
     "execution_count": 25,
     "metadata": {},
     "output_type": "execute_result"
    },
    {
     "data": {
      "image/png": "[encoded data removed]",
      "text/plain": [
       "<Figure size 432x288 with 1 Axes>"
      ]
     },
     "metadata": {
      "needs_background": "light"
     },
     "output_type": "display_data"
    }
   ],
   "source": [
    "sns.countplot(dataset.Status)"
   ]
  },
  {
   "cell_type": "code",
   "execution_count": 64,
   "metadata": {},
   "outputs": [],
   "source": [
    "cleaned_data[\"Rating\"]= cleaned_data[\"Rating\"].replace(\"R\", \"5\") \n",
    "cleaned_data[\"Rating\"]= cleaned_data[\"Rating\"].replace(\"PG-13\", \"4\") \n",
    "cleaned_data[\"Rating\"]= cleaned_data[\"Rating\"].replace(\"PG\", \"3\") \n",
    "cleaned_data[\"Rating\"]= cleaned_data[\"Rating\"].replace(\"G\", \"2\") \n",
    "cleaned_data[\"Rating\"]= cleaned_data[\"Rating\"].replace(\"None\", \"1\") "
   ]
  },
  {
   "cell_type": "code",
   "execution_count": 60,
   "metadata": {},
   "outputs": [],
   "source": [
    "cleaned_data.Sources=pd.factorize(cleaned_data.Sources)[0]+1"
   ]
  },
  {
   "cell_type": "code",
   "execution_count": 56,
   "metadata": {},
   "outputs": [],
   "source": [
    "cleaned_data[\"Status\"]= cleaned_data[\"Status\"].replace(\"Finished_Airing\", \"0\") \n",
    "cleaned_data[\"Status\"]= cleaned_data[\"Status\"].replace(\"Currently_Airing\", \"1\") "
   ]
  },
  {
   "cell_type": "code",
   "execution_count": 63,
   "metadata": {},
   "outputs": [
    {
     "data": {
      "text/plain": [
       "array(['R', 'PG-13', 'PG', 'G', 'None'], dtype=object)"
      ]
     },
     "execution_count": 63,
     "metadata": {},
     "output_type": "execute_result"
    }
   ],
   "source": [
    "cleaned_data.Rating.unique()"
   ]
  },
  {
   "cell_type": "code",
   "execution_count": 89,
   "metadata": {},
   "outputs": [],
   "source": [
    "x=cleaned_data.drop('Type',axis=1).values\n",
    "y=cleaned_data.Type.values"
   ]
  },
  {
   "cell_type": "code",
   "execution_count": 90,
   "metadata": {},
   "outputs": [
    {
     "data": {
      "text/plain": [
       "(1154, 4)"
      ]
     },
     "execution_count": 90,
     "metadata": {},
     "output_type": "execute_result"
    }
   ],
   "source": [
    "x.shape"
   ]
  },
  {
   "cell_type": "code",
   "execution_count": 91,
   "metadata": {},
   "outputs": [
    {
     "data": {
      "text/plain": [
       "(1154,)"
      ]
     },
     "execution_count": 91,
     "metadata": {},
     "output_type": "execute_result"
    }
   ],
   "source": [
    "y.shape"
   ]
  },
  {
   "cell_type": "code",
   "execution_count": 92,
   "metadata": {},
   "outputs": [
    {
     "data": {
      "text/plain": [
       "(14,)"
      ]
     },
     "execution_count": 92,
     "metadata": {},
     "output_type": "execute_result"
    }
   ],
   "source": [
    "cleaned_data.Sources.unique().shape"
   ]
  },
  {
   "cell_type": "code",
   "execution_count": 93,
   "metadata": {},
   "outputs": [
    {
     "data": {
      "text/plain": [
       "array([[1.  , 9.25, 1.  , ..., 0.  , 0.  , 1.  ],\n",
       "       [2.  , 9.19, 1.  , ..., 0.  , 1.  , 0.  ],\n",
       "       [1.  , 9.16, 1.  , ..., 0.  , 0.  , 1.  ],\n",
       "       ...,\n",
       "       [1.  , 7.48, 1.  , ..., 0.  , 1.  , 0.  ],\n",
       "       [9.  , 7.48, 1.  , ..., 0.  , 1.  , 0.  ],\n",
       "       [2.  , 7.48, 1.  , ..., 0.  , 0.  , 1.  ]])"
      ]
     },
     "execution_count": 93,
     "metadata": {},
     "output_type": "execute_result"
    }
   ],
   "source": [
    "pd.get_dummies(cleaned_data.drop('Type',axis=1)).values"
   ]
  },
  {
   "cell_type": "code",
   "execution_count": 48,
   "metadata": {},
   "outputs": [],
   "source": [
    "from sklearn.preprocessing import StandardScaler"
   ]
  },
  {
   "cell_type": "code",
   "execution_count": 49,
   "metadata": {},
   "outputs": [],
   "source": [
    "st_sc=StandardScaler()"
   ]
  },
  {
   "cell_type": "code",
   "execution_count": 94,
   "metadata": {},
   "outputs": [],
   "source": [
    "x=st_sc.fit_transform(x)"
   ]
  },
  {
   "cell_type": "code",
   "execution_count": 69,
   "metadata": {},
   "outputs": [],
   "source": [
    "from sklearn.model_selection import train_test_split"
   ]
  },
  {
   "cell_type": "code",
   "execution_count": 95,
   "metadata": {},
   "outputs": [],
   "source": [
    "X_train, X_test, y_train, y_test=train_test_split(x,y, test_size=0.2,random_state=0,stratify=y)"
   ]
  },
  {
   "cell_type": "code",
   "execution_count": 75,
   "metadata": {},
   "outputs": [],
   "source": [
    "from sklearn.neighbors import KNeighborsClassifier"
   ]
  },
  {
   "cell_type": "code",
   "execution_count": 96,
   "metadata": {},
   "outputs": [],
   "source": [
    "knn=KNeighborsClassifier()"
   ]
  },
  {
   "cell_type": "code",
   "execution_count": 97,
   "metadata": {},
   "outputs": [
    {
     "data": {
      "text/plain": [
       "KNeighborsClassifier(algorithm='auto', leaf_size=30, metric='minkowski',\n",
       "                     metric_params=None, n_jobs=None, n_neighbors=5, p=2,\n",
       "                     weights='uniform')"
      ]
     },
     "execution_count": 97,
     "metadata": {},
     "output_type": "execute_result"
    }
   ],
   "source": [
    "knn.fit(X_train,y_train)"
   ]
  },
  {
   "cell_type": "code",
   "execution_count": 98,
   "metadata": {},
   "outputs": [],
   "source": [
    "y_preds=knn.predict(X_test)"
   ]
  },
  {
   "cell_type": "code",
   "execution_count": 79,
   "metadata": {},
   "outputs": [],
   "source": [
    "from sklearn.metrics import classification_report, accuracy_score, confusion_matrix"
   ]
  },
  {
   "cell_type": "code",
   "execution_count": 99,
   "metadata": {},
   "outputs": [
    {
     "data": {
      "text/plain": [
       "0.7056277056277056"
      ]
     },
     "execution_count": 99,
     "metadata": {},
     "output_type": "execute_result"
    }
   ],
   "source": [
    "accuracy_score(y_test,y_preds)"
   ]
  },
  {
   "cell_type": "code",
   "execution_count": 100,
   "metadata": {},
   "outputs": [
    {
     "data": {
      "text/plain": [
       "array([[ 15,  52],\n",
       "       [ 16, 148]], dtype=int64)"
      ]
     },
     "execution_count": 100,
     "metadata": {},
     "output_type": "execute_result"
    }
   ],
   "source": [
    "cm = confusion_matrix(y_test, y_preds)\n",
    "cm"
   ]
  },
  {
   "cell_type": "code",
   "execution_count": 101,
   "metadata": {},
   "outputs": [
    {
     "name": "stdout",
     "output_type": "stream",
     "text": [
      "              precision    recall  f1-score   support\n",
      "\n",
      "       Movie       0.48      0.22      0.31        67\n",
      "          TV       0.74      0.90      0.81       164\n",
      "\n",
      "    accuracy                           0.71       231\n",
      "   macro avg       0.61      0.56      0.56       231\n",
      "weighted avg       0.67      0.71      0.67       231\n",
      "\n"
     ]
    }
   ],
   "source": [
    "print(classification_report(y_test, y_preds))"
   ]
  },
  {
   "cell_type": "code",
   "execution_count": 102,
   "metadata": {},
   "outputs": [
    {
     "data": {
      "text/plain": [
       "<matplotlib.axes._subplots.AxesSubplot at 0x12d9cfc99b0>"
      ]
     },
     "execution_count": 102,
     "metadata": {},
     "output_type": "execute_result"
    },
    {
     "data": {
      "image/png": "[encoded data removed]",
      "text/plain": [
       "<Figure size 360x144 with 2 Axes>"
      ]
     },
     "metadata": {
      "needs_background": "light"
     },
     "output_type": "display_data"
    }
   ],
   "source": [
    "cm_sum = np.sum(cm, axis=1, keepdims=True)\n",
    "cm_perc = cm / cm_sum.astype(float) * 100\n",
    "annot = np.empty_like(cm).astype(str)\n",
    "nrows, ncols = cm.shape\n",
    "for i in range(nrows):\n",
    "    for j in range(ncols):\n",
    "        c = cm[i, j]\n",
    "        p = cm_perc[i, j]\n",
    "        if i == j:\n",
    "            s = cm_sum[i]\n",
    "            annot[i, j] = '%.1f%%\\n%d/%d' % (p, c, s)\n",
    "        elif c == 0:\n",
    "            annot[i, j] = ''\n",
    "        else:\n",
    "            annot[i, j] = '%.1f%%\\n%d' % (p, c)\n",
    "\n",
    "cm = pd.DataFrame(cm, index=np.unique(y_test), columns=np.unique(y_test))\n",
    "cm.index.name = 'Actual'\n",
    "cm.columns.name = 'Predicted'\n",
    "\n",
    "fig, ax = plt.subplots(figsize=[5,2])\n",
    "\n",
    "sns.heatmap(cm, cmap= \"YlGnBu\", annot= annot, fmt='', ax=ax)"
   ]
  },
  {
   "cell_type": "code",
   "execution_count": 103,
   "metadata": {},
   "outputs": [
    {
     "data": {
      "text/plain": [
       "(array(['Movie', 'TV'], dtype=object), array([ 67, 164], dtype=int64))"
      ]
     },
     "execution_count": 103,
     "metadata": {},
     "output_type": "execute_result"
    }
   ],
   "source": [
    "np.unique(y_test, return_counts=True)"
   ]
  },
  {
   "cell_type": "code",
   "execution_count": 108,
   "metadata": {},
   "outputs": [
    {
     "name": "stdout",
     "output_type": "stream",
     "text": [
      "recall is:  0.8778625954198473\n"
     ]
    }
   ],
   "source": [
    "print('recall is: ',115 / (115 + 16))"
   ]
  },
  {
   "cell_type": "code",
   "execution_count": 106,
   "metadata": {},
   "outputs": [
    {
     "data": {
      "text/plain": [
       "164"
      ]
     },
     "execution_count": 106,
     "metadata": {},
     "output_type": "execute_result"
    }
   ],
   "source": [
    "148+16"
   ]
  },
  {
   "cell_type": "code",
   "execution_count": 107,
   "metadata": {},
   "outputs": [
    {
     "name": "stdout",
     "output_type": "stream",
     "text": [
      "precision is:  0.74\n"
     ]
    }
   ],
   "source": [
    "print('precision is: ',148/(148+52))"
   ]
  },
  {
   "cell_type": "code",
   "execution_count": 109,
   "metadata": {},
   "outputs": [
    {
     "data": {
      "text/plain": [
       "(array(['Movie', 'TV'], dtype=object), array([ 67, 164], dtype=int64))"
      ]
     },
     "execution_count": 109,
     "metadata": {},
     "output_type": "execute_result"
    }
   ],
   "source": [
    "np.unique(y_test, return_counts=True)"
   ]
  },
  {
   "cell_type": "code",
   "execution_count": 110,
   "metadata": {},
   "outputs": [],
   "source": [
    "from sklearn.metrics import precision_score, recall_score"
   ]
  },
  {
   "cell_type": "code",
   "execution_count": 123,
   "metadata": {},
   "outputs": [
    {
     "name": "stdout",
     "output_type": "stream",
     "text": [
      "REPORT FOR  1  neigbors. Accuracy is:  0.7056277056277056 \n",
      "precision is:  0.4838709677419355 recall is:  0.22388059701492538\n",
      "REPORT FOR  3  neigbors. Accuracy is:  0.7056277056277056 \n",
      "precision is:  0.4838709677419355 recall is:  0.22388059701492538\n",
      "REPORT FOR  5  neigbors. Accuracy is:  0.7056277056277056 \n",
      "precision is:  0.4838709677419355 recall is:  0.22388059701492538\n",
      "REPORT FOR  7  neigbors. Accuracy is:  0.7056277056277056 \n",
      "precision is:  0.4838709677419355 recall is:  0.22388059701492538\n",
      "REPORT FOR  9  neigbors. Accuracy is:  0.7056277056277056 \n",
      "precision is:  0.4838709677419355 recall is:  0.22388059701492538\n",
      "REPORT FOR  11  neigbors. Accuracy is:  0.7056277056277056 \n",
      "precision is:  0.4838709677419355 recall is:  0.22388059701492538\n"
     ]
    }
   ],
   "source": [
    "y_preds_n = []\n",
    "for n in np.arange(1, 12,2):\n",
    "    knn_n = KNeighborsClassifier(n)\n",
    "    knn_n.fit(X_train, y_train)\n",
    "    y_preds_n = knn_n.predict(X_test)\n",
    "    print('REPORT FOR ', n , ' neigbors. Accuracy is: ',accuracy_score(y_test, y_preds),\n",
    "    '\\nprecision is: ',precision_score(y_test, y_preds, pos_label=\"Movie\"),\n",
    "    'recall is: ',recall_score(y_test, y_preds, pos_label=\"Movie\"))\n",
    "    "
   ]
  },
  {
   "cell_type": "code",
   "execution_count": 141,
   "metadata": {
    "scrolled": true
   },
   "outputs": [
    {
     "ename": "ImportError",
     "evalue": "cannot import name '_safe_indexing' from 'sklearn.utils' (C:\\Users\\LENOVO\\Desktop\\turyk\\ThinkStats2-master\\code\\sklearn\\utils\\__init__.py)",
     "output_type": "error",
     "traceback": [
      "\u001b[1;31m---------------------------------------------------------------------------\u001b[0m",
      "\u001b[1;31mImportError\u001b[0m                               Traceback (most recent call last)",
      "\u001b[1;32m<ipython-input-141-0b052d41b57a>\u001b[0m in \u001b[0;36m<module>\u001b[1;34m\u001b[0m\n\u001b[1;32m----> 1\u001b[1;33m \u001b[1;32mfrom\u001b[0m \u001b[0mimblearn\u001b[0m\u001b[1;33m.\u001b[0m\u001b[0mover_sampling\u001b[0m \u001b[1;32mimport\u001b[0m \u001b[0mSMOTE\u001b[0m\u001b[1;33m\u001b[0m\u001b[1;33m\u001b[0m\u001b[0m\n\u001b[0m",
      "\u001b[1;32m~\\Desktop\\turyk\\ThinkStats2-master\\code\\imblearn\\__init__.py\u001b[0m in \u001b[0;36m<module>\u001b[1;34m\u001b[0m\n\u001b[0;32m     32\u001b[0m     \u001b[0mModule\u001b[0m \u001b[0mwhich\u001b[0m \u001b[0mallowing\u001b[0m \u001b[0mto\u001b[0m \u001b[0mcreate\u001b[0m \u001b[0mpipeline\u001b[0m \u001b[1;32mwith\u001b[0m \u001b[0mscikit\u001b[0m\u001b[1;33m-\u001b[0m\u001b[0mlearn\u001b[0m \u001b[0mestimators\u001b[0m\u001b[1;33m.\u001b[0m\u001b[1;33m\u001b[0m\u001b[1;33m\u001b[0m\u001b[0m\n\u001b[0;32m     33\u001b[0m \"\"\"\n\u001b[1;32m---> 34\u001b[1;33m \u001b[1;32mfrom\u001b[0m \u001b[1;33m.\u001b[0m \u001b[1;32mimport\u001b[0m \u001b[0mcombine\u001b[0m\u001b[1;33m\u001b[0m\u001b[1;33m\u001b[0m\u001b[0m\n\u001b[0m\u001b[0;32m     35\u001b[0m \u001b[1;32mfrom\u001b[0m \u001b[1;33m.\u001b[0m \u001b[1;32mimport\u001b[0m \u001b[0mensemble\u001b[0m\u001b[1;33m\u001b[0m\u001b[1;33m\u001b[0m\u001b[0m\n\u001b[0;32m     36\u001b[0m \u001b[1;32mfrom\u001b[0m \u001b[1;33m.\u001b[0m \u001b[1;32mimport\u001b[0m \u001b[0mexceptions\u001b[0m\u001b[1;33m\u001b[0m\u001b[1;33m\u001b[0m\u001b[0m\n",
      "\u001b[1;32m~\\Desktop\\turyk\\ThinkStats2-master\\code\\imblearn\\combine\\__init__.py\u001b[0m in \u001b[0;36m<module>\u001b[1;34m\u001b[0m\n\u001b[0;32m      3\u001b[0m \"\"\"\n\u001b[0;32m      4\u001b[0m \u001b[1;33m\u001b[0m\u001b[0m\n\u001b[1;32m----> 5\u001b[1;33m \u001b[1;32mfrom\u001b[0m \u001b[1;33m.\u001b[0m\u001b[0m_smote_enn\u001b[0m \u001b[1;32mimport\u001b[0m \u001b[0mSMOTEENN\u001b[0m\u001b[1;33m\u001b[0m\u001b[1;33m\u001b[0m\u001b[0m\n\u001b[0m\u001b[0;32m      6\u001b[0m \u001b[1;32mfrom\u001b[0m \u001b[1;33m.\u001b[0m\u001b[0m_smote_tomek\u001b[0m \u001b[1;32mimport\u001b[0m \u001b[0mSMOTETomek\u001b[0m\u001b[1;33m\u001b[0m\u001b[1;33m\u001b[0m\u001b[0m\n\u001b[0;32m      7\u001b[0m \u001b[1;33m\u001b[0m\u001b[0m\n",
      "\u001b[1;32m~\\Desktop\\turyk\\ThinkStats2-master\\code\\imblearn\\combine\\_smote_enn.py\u001b[0m in \u001b[0;36m<module>\u001b[1;34m\u001b[0m\n\u001b[0;32m      9\u001b[0m \u001b[1;33m\u001b[0m\u001b[0m\n\u001b[0;32m     10\u001b[0m \u001b[1;32mfrom\u001b[0m \u001b[1;33m.\u001b[0m\u001b[1;33m.\u001b[0m\u001b[0mbase\u001b[0m \u001b[1;32mimport\u001b[0m \u001b[0mBaseSampler\u001b[0m\u001b[1;33m\u001b[0m\u001b[1;33m\u001b[0m\u001b[0m\n\u001b[1;32m---> 11\u001b[1;33m \u001b[1;32mfrom\u001b[0m \u001b[1;33m.\u001b[0m\u001b[1;33m.\u001b[0m\u001b[0mover_sampling\u001b[0m \u001b[1;32mimport\u001b[0m \u001b[0mSMOTE\u001b[0m\u001b[1;33m\u001b[0m\u001b[1;33m\u001b[0m\u001b[0m\n\u001b[0m\u001b[0;32m     12\u001b[0m \u001b[1;32mfrom\u001b[0m \u001b[1;33m.\u001b[0m\u001b[1;33m.\u001b[0m\u001b[0mover_sampling\u001b[0m\u001b[1;33m.\u001b[0m\u001b[0mbase\u001b[0m \u001b[1;32mimport\u001b[0m \u001b[0mBaseOverSampler\u001b[0m\u001b[1;33m\u001b[0m\u001b[1;33m\u001b[0m\u001b[0m\n\u001b[0;32m     13\u001b[0m \u001b[1;32mfrom\u001b[0m \u001b[1;33m.\u001b[0m\u001b[1;33m.\u001b[0m\u001b[0munder_sampling\u001b[0m \u001b[1;32mimport\u001b[0m \u001b[0mEditedNearestNeighbours\u001b[0m\u001b[1;33m\u001b[0m\u001b[1;33m\u001b[0m\u001b[0m\n",
      "\u001b[1;32m~\\Desktop\\turyk\\ThinkStats2-master\\code\\imblearn\\over_sampling\\__init__.py\u001b[0m in \u001b[0;36m<module>\u001b[1;34m\u001b[0m\n\u001b[0;32m      4\u001b[0m \"\"\"\n\u001b[0;32m      5\u001b[0m \u001b[1;33m\u001b[0m\u001b[0m\n\u001b[1;32m----> 6\u001b[1;33m \u001b[1;32mfrom\u001b[0m \u001b[1;33m.\u001b[0m\u001b[0m_adasyn\u001b[0m \u001b[1;32mimport\u001b[0m \u001b[0mADASYN\u001b[0m\u001b[1;33m\u001b[0m\u001b[1;33m\u001b[0m\u001b[0m\n\u001b[0m\u001b[0;32m      7\u001b[0m \u001b[1;32mfrom\u001b[0m \u001b[1;33m.\u001b[0m\u001b[0m_random_over_sampler\u001b[0m \u001b[1;32mimport\u001b[0m \u001b[0mRandomOverSampler\u001b[0m\u001b[1;33m\u001b[0m\u001b[1;33m\u001b[0m\u001b[0m\n\u001b[0;32m      8\u001b[0m \u001b[1;32mfrom\u001b[0m \u001b[1;33m.\u001b[0m\u001b[0m_smote\u001b[0m \u001b[1;32mimport\u001b[0m \u001b[0mSMOTE\u001b[0m\u001b[1;33m\u001b[0m\u001b[1;33m\u001b[0m\u001b[0m\n",
      "\u001b[1;32m~\\Desktop\\turyk\\ThinkStats2-master\\code\\imblearn\\over_sampling\\_adasyn.py\u001b[0m in \u001b[0;36m<module>\u001b[1;34m\u001b[0m\n\u001b[0;32m      9\u001b[0m \u001b[1;33m\u001b[0m\u001b[0m\n\u001b[0;32m     10\u001b[0m \u001b[1;32mfrom\u001b[0m \u001b[0msklearn\u001b[0m\u001b[1;33m.\u001b[0m\u001b[0mutils\u001b[0m \u001b[1;32mimport\u001b[0m \u001b[0mcheck_random_state\u001b[0m\u001b[1;33m\u001b[0m\u001b[1;33m\u001b[0m\u001b[0m\n\u001b[1;32m---> 11\u001b[1;33m \u001b[1;32mfrom\u001b[0m \u001b[0msklearn\u001b[0m\u001b[1;33m.\u001b[0m\u001b[0mutils\u001b[0m \u001b[1;32mimport\u001b[0m \u001b[0m_safe_indexing\u001b[0m\u001b[1;33m\u001b[0m\u001b[1;33m\u001b[0m\u001b[0m\n\u001b[0m\u001b[0;32m     12\u001b[0m \u001b[1;33m\u001b[0m\u001b[0m\n\u001b[0;32m     13\u001b[0m \u001b[1;32mfrom\u001b[0m \u001b[1;33m.\u001b[0m\u001b[0mbase\u001b[0m \u001b[1;32mimport\u001b[0m \u001b[0mBaseOverSampler\u001b[0m\u001b[1;33m\u001b[0m\u001b[1;33m\u001b[0m\u001b[0m\n",
      "\u001b[1;31mImportError\u001b[0m: cannot import name '_safe_indexing' from 'sklearn.utils' (C:\\Users\\LENOVO\\Desktop\\turyk\\ThinkStats2-master\\code\\sklearn\\utils\\__init__.py)"
     ]
    }
   ],
   "source": [
    "from imblearn.over_sampling import SMOTE"
   ]
  },
  {
   "cell_type": "code",
   "execution_count": 138,
   "metadata": {},
   "outputs": [],
   "source": [
    "from sklearn.neighbors import _base"
   ]
  },
  {
   "cell_type": "code",
   "execution_count": 140,
   "metadata": {},
   "outputs": [],
   "source": [
    "from sklearn.utils import __init__"
   ]
  },
  {
   "cell_type": "code",
   "execution_count": 133,
   "metadata": {},
   "outputs": [
    {
     "ename": "NameError",
     "evalue": "name 'transactions' is not defined",
     "output_type": "error",
     "traceback": [
      "\u001b[1;31m---------------------------------------------------------------------------\u001b[0m",
      "\u001b[1;31mNameError\u001b[0m                                 Traceback (most recent call last)",
      "\u001b[1;32m<ipython-input-133-a5cfb75a45c7>\u001b[0m in \u001b[0;36m<module>\u001b[1;34m\u001b[0m\n\u001b[1;32m----> 1\u001b[1;33m \u001b[0mcleaned_dataset\u001b[0m\u001b[1;33m.\u001b[0m\u001b[0mcolumns\u001b[0m\u001b[1;33m=\u001b[0m\u001b[0mtransactions\u001b[0m\u001b[1;33m.\u001b[0m\u001b[0mcolumns\u001b[0m\u001b[1;33m.\u001b[0m\u001b[0mstr\u001b[0m\u001b[1;33m.\u001b[0m\u001b[0mreplace\u001b[0m\u001b[1;33m(\u001b[0m\u001b[0mStatus\u001b[0m\u001b[1;33m)\u001b[0m\u001b[1;33m\u001b[0m\u001b[1;33m\u001b[0m\u001b[0m\n\u001b[0m",
      "\u001b[1;31mNameError\u001b[0m: name 'transactions' is not defined"
     ]
    }
   ],
   "source": [
    "cleaned_dataset.columns=transactions.columns.str.replace(Status)"
   ]
  },
  {
   "cell_type": "code",
   "execution_count": 54,
   "metadata": {},
   "outputs": [
    {
     "data": {
      "text/plain": [
       "array(['TV', 'Movie', 'OVA', 'Special', 'Music', 'ONA'], dtype=object)"
      ]
     },
     "execution_count": 54,
     "metadata": {},
     "output_type": "execute_result"
    }
   ],
   "source": [
    "dataa .Type.unique()"
   ]
  },
  {
   "cell_type": "code",
   "execution_count": 55,
   "metadata": {},
   "outputs": [],
   "source": [
    "inds=dataa [dataa ['Date']=='-'].index\n",
    "dataa .drop(index=inds,inplace=True)"
   ]
  },
  {
   "cell_type": "code",
   "execution_count": 56,
   "metadata": {},
   "outputs": [
    {
     "data": {
      "text/plain": [
       "1970-4-1      1\n",
       "1971-10-24    1\n",
       "1974-10-6     1\n",
       "1975-10-5     1\n",
       "1976-10-1     1\n",
       "1977-10-2     1\n",
       "1977-6-4      1\n",
       "1978-1-1      1\n",
       "1978-10-14    1\n",
       "1978-10-8     1\n",
       "1978-3-14     1\n",
       "1978-4-4      1\n",
       "1978-9-14     1\n",
       "1979-1-7      1\n",
       "1979-10-10    1\n",
       "1979-12-15    1\n",
       "1979-2-4      1\n",
       "1979-4-7      1\n",
       "1979-8-4      1\n",
       "1980-10-13    1\n",
       "1980-7-16     1\n",
       "1981-10-14    1\n",
       "1981-10-23    1\n",
       "1981-7-11     1\n",
       "1981-8-22     1\n",
       "1982-10-13    1\n",
       "1982-10-3     1\n",
       "1982-2-6      1\n",
       "1982-3-13     1\n",
       "1982-4-9      1\n",
       "             ..\n",
       "2017-9-29     1\n",
       "2017-9-30     1\n",
       "2018-1-11     1\n",
       "2018-1-12     4\n",
       "2018-1-13     3\n",
       "2018-1-17     1\n",
       "2018-1-2      1\n",
       "2018-1-20     1\n",
       "2018-1-4      1\n",
       "2018-1-6      1\n",
       "2018-1-7      4\n",
       "2018-1-8      2\n",
       "2018-1-9      2\n",
       "2018-2-10     1\n",
       "2018-2-17     1\n",
       "2018-2-22     1\n",
       "2018-2-23     1\n",
       "2018-2-24     1\n",
       "2018-2-3      1\n",
       "2018-3-2      1\n",
       "2018-3-21     1\n",
       "2018-3-28     1\n",
       "2018-3-3      1\n",
       "2018-4-12     1\n",
       "2018-4-13     3\n",
       "2018-4-3      2\n",
       "2018-4-4      1\n",
       "2018-4-6      3\n",
       "2018-4-7      3\n",
       "2018-4-8      2\n",
       "Name: Date, Length: 1169, dtype: int64"
      ]
     },
     "execution_count": 56,
     "metadata": {},
     "output_type": "execute_result"
    }
   ],
   "source": [
    "pd.value_counts(dataa ['Date']).sort_index()"
   ]
  },
  {
   "cell_type": "code",
   "execution_count": 57,
   "metadata": {},
   "outputs": [],
   "source": [
    "dataa ['Date']=pd.to_datetime(transactions['Date'])"
   ]
  },
  {
   "cell_type": "markdown",
   "metadata": {},
   "source": [
    "This function returns the first n rows for the object based on position. It is useful for quickly testing if your object has the right type of data in it."
   ]
  },
  {
   "cell_type": "markdown",
   "metadata": {},
   "source": [
    "This function returns last n rows from the object based on position. It is useful for quickly verifying data, for example, after sorting or appending rows."
   ]
  },
  {
   "cell_type": "code",
   "execution_count": 58,
   "metadata": {
    "scrolled": true
   },
   "outputs": [
    {
     "name": "stdout",
     "output_type": "stream",
     "text": [
      "<class 'pandas.core.frame.DataFrame'>\n",
      "Int64Index: 1549 entries, 0 to 1562\n",
      "Data columns (total 20 columns):\n",
      "Title              1549 non-null object\n",
      "Type               1549 non-null object\n",
      "Episodes           1549 non-null object\n",
      "Status             1549 non-null object\n",
      "Date               1549 non-null datetime64[ns]\n",
      "End airing         1549 non-null object\n",
      "Starting season    1549 non-null object\n",
      "Broadcast time     1549 non-null object\n",
      "Producers          1549 non-null object\n",
      "Licensors          1549 non-null object\n",
      "Studios            1549 non-null object\n",
      "Sources            1549 non-null object\n",
      "Genres             1549 non-null object\n",
      "Duration           1549 non-null object\n",
      "Rating             1549 non-null object\n",
      "Score              1549 non-null float64\n",
      "Scored by          1549 non-null int64\n",
      "Members            1549 non-null int64\n",
      "Favorites          1549 non-null int64\n",
      "Description        1549 non-null object\n",
      "dtypes: datetime64[ns](1), float64(1), int64(3), object(15)\n",
      "memory usage: 254.1+ KB\n"
     ]
    }
   ],
   "source": [
    "dataa.info()"
   ]
  },
  {
   "cell_type": "code",
   "execution_count": 59,
   "metadata": {},
   "outputs": [],
   "source": [
    "def MakeSurvivalFromCdf(cdf, label=''):\n",
    "    ts = cdf.xs\n",
    "    ss = 1 - cdf.ps\n",
    "    return survival.SurvivalFunction(ts, ss, label)"
   ]
  },
  {
   "cell_type": "code",
   "execution_count": 60,
   "metadata": {},
   "outputs": [
    {
     "data": {
      "text/plain": [
       "Title              0\n",
       "Type               0\n",
       "Episodes           0\n",
       "Status             0\n",
       "Date               0\n",
       "End airing         0\n",
       "Starting season    0\n",
       "Broadcast time     0\n",
       "Producers          0\n",
       "Licensors          0\n",
       "Studios            0\n",
       "Sources            0\n",
       "Genres             0\n",
       "Duration           0\n",
       "Rating             0\n",
       "Score              0\n",
       "Scored by          0\n",
       "Members            0\n",
       "Favorites          0\n",
       "Description        0\n",
       "dtype: int64"
      ]
     },
     "execution_count": 60,
     "metadata": {},
     "output_type": "execute_result"
    }
   ],
   "source": [
    "dataa.isna().sum()"
   ]
  },
  {
   "cell_type": "code",
   "execution_count": 61,
   "metadata": {},
   "outputs": [],
   "source": [
    "def EstimateHazardFunction(complete, ongoing, label='', verbose=False):\n",
    "    if np.sum(np.isnan(complete)):\n",
    "        raise ValueError(\"complete contains NaNs\")\n",
    "    if np.sum(np.isnan(ongoing)):\n",
    "        raise ValueError(\"ongoing contains NaNs\")\n",
    "\n",
    "    hist_complete = Counter(complete)\n",
    "    hist_ongoing = Counter(ongoing)\n",
    "\n",
    "    ts = list(hist_complete | hist_ongoing)\n",
    "    ts.sort()\n",
    "\n",
    "    at_risk = len(complete) + len(ongoing)\n",
    "\n",
    "    lams = pd.Series(index=ts)\n",
    "    for t in ts:\n",
    "        ended = hist_complete[t]\n",
    "        censored = hist_ongoing[t]\n",
    "\n",
    "        lams[t] = ended / at_risk\n",
    "        if verbose:\n",
    "            print(t, at_risk, ended, censored, lams[t])\n",
    "        at_risk -= ended + censored\n",
    "\n",
    "    return survival.HazardFunction(lams, label=label)"
   ]
  },
  {
   "cell_type": "code",
   "execution_count": 62,
   "metadata": {},
   "outputs": [],
   "source": [
    "def EstimateMarriageSurvival(dataa):\n",
    "    x = dataa[(dataa['Score']>5)].Episodes\n",
    "    y = dataa[(dataa['Score']<5)].Episodes\n",
    "\n",
    "    hf = EstimateHazardFunction(x, y)\n",
    "    sf = hf.MakeSurvival()\n",
    "\n",
    "    return hf, sf"
   ]
  },
  {
   "cell_type": "code",
   "execution_count": 64,
   "metadata": {},
   "outputs": [],
   "source": [
    "def PlotPredictionsByDecade(groups, **options):\n",
    "    hfs = []\n",
    "    for _, group in groups:\n",
    "        hf, sf = EstimateMarriageSurvival(group)\n",
    "        hfs.append(hf)\n",
    "\n",
    "    thinkplot.PrePlot(len(hfs))\n",
    "    for i, hf in enumerate(hfs):\n",
    "        if i > 0:\n",
    "            hf.Extend(hfs[i-1])\n",
    "        sf = hf.MakeSurvival()\n",
    "        thinkplot.Plot(sf, **options)"
   ]
  },
  {
   "cell_type": "code",
   "execution_count": 65,
   "metadata": {},
   "outputs": [],
   "source": [
    "\n",
    "\n",
    "def AddLabelsByDecade(groups, **options):\n",
    "    thinkplot.PrePlot(len(groups))\n",
    "    for name, _ in groups:\n",
    "        label = '%d0s' % name\n",
    "        thinkplot.Plot([15], [1], alabel=label, **options)"
   ]
  },
  {
   "cell_type": "code",
   "execution_count": 66,
   "metadata": {},
   "outputs": [],
   "source": [
    "def EstimateMarriageSurvivalByDecade(groups, **options):\n",
    "    thinkplot.PrePlot(len(groups))\n",
    "    for _, group in groups:\n",
    "        _, sf = EstimateMarriageSurvival(group)\n",
    "        thinkplot.Plot(sf, **options)"
   ]
  },
  {
   "cell_type": "code",
   "execution_count": 77,
   "metadata": {},
   "outputs": [],
   "source": [
    "def PlotResampledByDecade(resps, iters=11, predict_flag=False, omit=None):\n",
    "    for i in range(iters):\n",
    "        samples = [thinkstats2.ResampleRows(resp) \n",
    "                   for resp in resps]\n",
    "        sample = pd.concat(samples, ignore_index=True)\n",
    "        groups = sample.groupby('decade')\n",
    "\n",
    "        if omit:\n",
    "            groups = [(name, group) for name, group in groups \n",
    "                      if name not in omit]\n",
    "\n",
    "        if i == 0:\n",
    "            AddLabelsByDecade(groups, alpha=0.7)\n",
    "\n",
    "        if predict_flag:\n",
    "            PlotPredictionsByDecade(groups, alpha=0.1)\n",
    "            EstimateMarriageSurvivalByDecade(groups, alpha=0.1)\n",
    "        else:\n",
    "            EstimateMarriageSurvivalByDecade(groups, alpha=0.2)"
   ]
  },
  {
   "cell_type": "code",
   "execution_count": 68,
   "metadata": {},
   "outputs": [
    {
     "ename": "TypeError",
     "evalue": "'<' not supported between instances of 'int' and 'numpy.str_'",
     "output_type": "error",
     "traceback": [
      "\u001b[1;31m---------------------------------------------------------------------------\u001b[0m",
      "\u001b[1;31mTypeError\u001b[0m                                 Traceback (most recent call last)",
      "\u001b[1;32m<ipython-input-68-1cbc5e837552>\u001b[0m in \u001b[0;36m<module>\u001b[1;34m\u001b[0m\n\u001b[0;32m      1\u001b[0m \u001b[0mcdf\u001b[0m \u001b[1;33m=\u001b[0m \u001b[0mthinkstats2\u001b[0m\u001b[1;33m.\u001b[0m\u001b[0mCdf\u001b[0m\u001b[1;33m(\u001b[0m\u001b[0mdataa\u001b[0m\u001b[1;33m[\u001b[0m\u001b[1;34m'Episodes'\u001b[0m\u001b[1;33m]\u001b[0m\u001b[1;33m,\u001b[0m \u001b[0mlabel\u001b[0m\u001b[1;33m=\u001b[0m\u001b[1;34m'cdf'\u001b[0m\u001b[1;33m)\u001b[0m\u001b[1;33m\u001b[0m\u001b[1;33m\u001b[0m\u001b[0m\n\u001b[0;32m      2\u001b[0m \u001b[0msf\u001b[0m \u001b[1;33m=\u001b[0m \u001b[0mMakeSurvivalFromCdf\u001b[0m\u001b[1;33m(\u001b[0m\u001b[0mcdf\u001b[0m\u001b[1;33m,\u001b[0m \u001b[0mlabel\u001b[0m\u001b[1;33m=\u001b[0m\u001b[1;34m'survival'\u001b[0m\u001b[1;33m)\u001b[0m\u001b[1;33m\u001b[0m\u001b[1;33m\u001b[0m\u001b[0m\n\u001b[1;32m----> 3\u001b[1;33m \u001b[0mprint\u001b[0m\u001b[1;33m(\u001b[0m\u001b[0mcdf\u001b[0m\u001b[1;33m[\u001b[0m\u001b[1;36m35\u001b[0m\u001b[1;33m]\u001b[0m\u001b[1;33m)\u001b[0m\u001b[1;33m\u001b[0m\u001b[1;33m\u001b[0m\u001b[0m\n\u001b[0m\u001b[0;32m      4\u001b[0m \u001b[0mprint\u001b[0m\u001b[1;33m(\u001b[0m\u001b[0msf\u001b[0m\u001b[1;33m[\u001b[0m\u001b[1;36m35\u001b[0m\u001b[1;33m]\u001b[0m\u001b[1;33m)\u001b[0m\u001b[1;33m\u001b[0m\u001b[1;33m\u001b[0m\u001b[0m\n",
      "\u001b[1;32m~\\Desktop\\turyk\\ThinkStats2-master\\code\\thinkstats2.py\u001b[0m in \u001b[0;36m__getitem__\u001b[1;34m(self, x)\u001b[0m\n\u001b[0;32m   1058\u001b[0m \u001b[1;33m\u001b[0m\u001b[0m\n\u001b[0;32m   1059\u001b[0m     \u001b[1;32mdef\u001b[0m \u001b[0m__getitem__\u001b[0m\u001b[1;33m(\u001b[0m\u001b[0mself\u001b[0m\u001b[1;33m,\u001b[0m \u001b[0mx\u001b[0m\u001b[1;33m)\u001b[0m\u001b[1;33m:\u001b[0m\u001b[1;33m\u001b[0m\u001b[1;33m\u001b[0m\u001b[0m\n\u001b[1;32m-> 1060\u001b[1;33m         \u001b[1;32mreturn\u001b[0m \u001b[0mself\u001b[0m\u001b[1;33m.\u001b[0m\u001b[0mProb\u001b[0m\u001b[1;33m(\u001b[0m\u001b[0mx\u001b[0m\u001b[1;33m)\u001b[0m\u001b[1;33m\u001b[0m\u001b[1;33m\u001b[0m\u001b[0m\n\u001b[0m\u001b[0;32m   1061\u001b[0m \u001b[1;33m\u001b[0m\u001b[0m\n\u001b[0;32m   1062\u001b[0m     \u001b[1;32mdef\u001b[0m \u001b[0m__setitem__\u001b[0m\u001b[1;33m(\u001b[0m\u001b[0mself\u001b[0m\u001b[1;33m)\u001b[0m\u001b[1;33m:\u001b[0m\u001b[1;33m\u001b[0m\u001b[1;33m\u001b[0m\u001b[0m\n",
      "\u001b[1;32m~\\Desktop\\turyk\\ThinkStats2-master\\code\\thinkstats2.py\u001b[0m in \u001b[0;36mProb\u001b[1;34m(self, x)\u001b[0m\n\u001b[0;32m   1128\u001b[0m             \u001b[0mfloat\u001b[0m \u001b[0mprobability\u001b[0m\u001b[1;33m\u001b[0m\u001b[1;33m\u001b[0m\u001b[0m\n\u001b[0;32m   1129\u001b[0m         \"\"\"\n\u001b[1;32m-> 1130\u001b[1;33m         \u001b[1;32mif\u001b[0m \u001b[0mx\u001b[0m \u001b[1;33m<\u001b[0m \u001b[0mself\u001b[0m\u001b[1;33m.\u001b[0m\u001b[0mxs\u001b[0m\u001b[1;33m[\u001b[0m\u001b[1;36m0\u001b[0m\u001b[1;33m]\u001b[0m\u001b[1;33m:\u001b[0m\u001b[1;33m\u001b[0m\u001b[1;33m\u001b[0m\u001b[0m\n\u001b[0m\u001b[0;32m   1131\u001b[0m             \u001b[1;32mreturn\u001b[0m \u001b[1;36m0\u001b[0m\u001b[1;33m\u001b[0m\u001b[1;33m\u001b[0m\u001b[0m\n\u001b[0;32m   1132\u001b[0m         \u001b[0mindex\u001b[0m \u001b[1;33m=\u001b[0m \u001b[0mbisect\u001b[0m\u001b[1;33m.\u001b[0m\u001b[0mbisect\u001b[0m\u001b[1;33m(\u001b[0m\u001b[0mself\u001b[0m\u001b[1;33m.\u001b[0m\u001b[0mxs\u001b[0m\u001b[1;33m,\u001b[0m \u001b[0mx\u001b[0m\u001b[1;33m)\u001b[0m\u001b[1;33m\u001b[0m\u001b[1;33m\u001b[0m\u001b[0m\n",
      "\u001b[1;31mTypeError\u001b[0m: '<' not supported between instances of 'int' and 'numpy.str_'"
     ]
    }
   ],
   "source": [
    "cdf = thinkstats2.Cdf(dataa['Episodes'], label='cdf')\n",
    "sf = MakeSurvivalFromCdf(cdf, label='survival')\n",
    "print(cdf[35])\n",
    "print(sf[35])"
   ]
  },
  {
   "cell_type": "code",
   "execution_count": 76,
   "metadata": {},
   "outputs": [
    {
     "data": {
      "text/plain": [
       "array([  64,    1,   51,   23,   24,  110,  148,   22,   13,    7,   12,\n",
       "        201,   10,   25,   26,   75,    4,   11,   43,   27,   37,   39,\n",
       "         47,   99,  120,  101,    0,    2,   50,  112,   62,   33,   94,\n",
       "          3,    8,   14,   40,   15,   77,  291,  203,   79,    6,   70,\n",
       "         38,  500,  103,  153,  102,   45,   21,   63,  175,   52,    5,\n",
       "         28,  145,   36,   78,   60,   69,  178,   35,   34,  109,  113,\n",
       "        114,    9,   49,   61,   97,  366,  167,   54,  358,  104,   20,\n",
       "        220,   48,   42,   46,  100,  142,  373,  131,  195, 1787,   19,\n",
       "         17,  147,   73,  127,   74,   16,  150,  140,   76,   53,   98,\n",
       "         29,  115,   18,  124,  224,   44,  154,   58], dtype=int64)"
      ]
     },
     "execution_count": 76,
     "metadata": {},
     "output_type": "execute_result"
    }
   ],
   "source": [
    "dataa['Episodes'].unique()"
   ]
  },
  {
   "cell_type": "code",
   "execution_count": 79,
   "metadata": {},
   "outputs": [],
   "source": [
    "dataa['Episodes']=dataa['Episodes'].astype(int)"
   ]
  },
  {
   "cell_type": "code",
   "execution_count": 78,
   "metadata": {},
   "outputs": [
    {
     "name": "stderr",
     "output_type": "stream",
     "text": [
      "C:\\Users\\LENOVO\\Anaconda3\\lib\\site-packages\\ipykernel_launcher.py:1: SettingWithCopyWarning: \n",
      "A value is trying to be set on a copy of a slice from a DataFrame\n",
      "\n",
      "See the caveats in the documentation: http://pandas.pydata.org/pandas-docs/stable/indexing.html#indexing-view-versus-copy\n",
      "  \"\"\"Entry point for launching an IPython kernel.\n"
     ]
    }
   ],
   "source": [
    "dataa.Episodes[dataa.Episodes == '-'] = 0\n"
   ]
  },
  {
   "cell_type": "code",
   "execution_count": 81,
   "metadata": {},
   "outputs": [
    {
     "ename": "ValueError",
     "evalue": "could not convert string to float: '-'",
     "output_type": "error",
     "traceback": [
      "\u001b[1;31m---------------------------------------------------------------------------\u001b[0m",
      "\u001b[1;31mValueError\u001b[0m                                Traceback (most recent call last)",
      "\u001b[1;32m<ipython-input-81-32878c567f7f>\u001b[0m in \u001b[0;36m<module>\u001b[1;34m\u001b[0m\n\u001b[0;32m      1\u001b[0m \u001b[0mthinkplot\u001b[0m\u001b[1;33m.\u001b[0m\u001b[0mPlot\u001b[0m\u001b[1;33m(\u001b[0m\u001b[0msf\u001b[0m\u001b[1;33m)\u001b[0m\u001b[1;33m\u001b[0m\u001b[1;33m\u001b[0m\u001b[0m\n\u001b[1;32m----> 2\u001b[1;33m \u001b[0mthinkplot\u001b[0m\u001b[1;33m.\u001b[0m\u001b[0mCdf\u001b[0m\u001b[1;33m(\u001b[0m\u001b[0mcdf\u001b[0m\u001b[1;33m,\u001b[0m \u001b[0malpha\u001b[0m\u001b[1;33m=\u001b[0m\u001b[1;36m0.2\u001b[0m\u001b[1;33m)\u001b[0m\u001b[1;33m\u001b[0m\u001b[1;33m\u001b[0m\u001b[0m\n\u001b[0m\u001b[0;32m      3\u001b[0m \u001b[0mthinkplot\u001b[0m\u001b[1;33m.\u001b[0m\u001b[0mConfig\u001b[0m\u001b[1;33m(\u001b[0m\u001b[0mloc\u001b[0m\u001b[1;33m=\u001b[0m\u001b[1;34m'center left'\u001b[0m\u001b[1;33m)\u001b[0m\u001b[1;33m\u001b[0m\u001b[1;33m\u001b[0m\u001b[0m\n",
      "\u001b[1;32m~\\Desktop\\turyk\\ThinkStats2-master\\code\\thinkplot.py\u001b[0m in \u001b[0;36mCdf\u001b[1;34m(cdf, complement, transform, **options)\u001b[0m\n\u001b[0;32m    534\u001b[0m       \u001b[0mConfig\u001b[0m\u001b[1;33m,\u001b[0m \u001b[0mShow\u001b[0m \u001b[1;32mor\u001b[0m \u001b[0mSave\u001b[0m\u001b[1;33m.\u001b[0m\u001b[1;33m\u001b[0m\u001b[1;33m\u001b[0m\u001b[0m\n\u001b[0;32m    535\u001b[0m     \"\"\"\n\u001b[1;32m--> 536\u001b[1;33m     \u001b[0mxs\u001b[0m\u001b[1;33m,\u001b[0m \u001b[0mps\u001b[0m \u001b[1;33m=\u001b[0m \u001b[0mcdf\u001b[0m\u001b[1;33m.\u001b[0m\u001b[0mRender\u001b[0m\u001b[1;33m(\u001b[0m\u001b[1;33m)\u001b[0m\u001b[1;33m\u001b[0m\u001b[1;33m\u001b[0m\u001b[0m\n\u001b[0m\u001b[0;32m    537\u001b[0m     \u001b[0mxs\u001b[0m \u001b[1;33m=\u001b[0m \u001b[0mnp\u001b[0m\u001b[1;33m.\u001b[0m\u001b[0masarray\u001b[0m\u001b[1;33m(\u001b[0m\u001b[0mxs\u001b[0m\u001b[1;33m)\u001b[0m\u001b[1;33m\u001b[0m\u001b[1;33m\u001b[0m\u001b[0m\n\u001b[0;32m    538\u001b[0m     \u001b[0mps\u001b[0m \u001b[1;33m=\u001b[0m \u001b[0mnp\u001b[0m\u001b[1;33m.\u001b[0m\u001b[0masarray\u001b[0m\u001b[1;33m(\u001b[0m\u001b[0mps\u001b[0m\u001b[1;33m)\u001b[0m\u001b[1;33m\u001b[0m\u001b[1;33m\u001b[0m\u001b[0m\n",
      "\u001b[1;32m~\\Desktop\\turyk\\ThinkStats2-master\\code\\thinkstats2.py\u001b[0m in \u001b[0;36mRender\u001b[1;34m(self, **options)\u001b[0m\n\u001b[0;32m   1300\u001b[0m \u001b[1;33m\u001b[0m\u001b[0m\n\u001b[0;32m   1301\u001b[0m         \u001b[0ma\u001b[0m \u001b[1;33m=\u001b[0m \u001b[0mnp\u001b[0m\u001b[1;33m.\u001b[0m\u001b[0marray\u001b[0m\u001b[1;33m(\u001b[0m\u001b[0mself\u001b[0m\u001b[1;33m.\u001b[0m\u001b[0mxs\u001b[0m\u001b[1;33m)\u001b[0m\u001b[1;33m\u001b[0m\u001b[1;33m\u001b[0m\u001b[0m\n\u001b[1;32m-> 1302\u001b[1;33m         \u001b[0mxs\u001b[0m \u001b[1;33m=\u001b[0m \u001b[0minterleave\u001b[0m\u001b[1;33m(\u001b[0m\u001b[0ma\u001b[0m\u001b[1;33m,\u001b[0m \u001b[0ma\u001b[0m\u001b[1;33m)\u001b[0m\u001b[1;33m\u001b[0m\u001b[1;33m\u001b[0m\u001b[0m\n\u001b[0m\u001b[0;32m   1303\u001b[0m         \u001b[0mshift_ps\u001b[0m \u001b[1;33m=\u001b[0m \u001b[0mnp\u001b[0m\u001b[1;33m.\u001b[0m\u001b[0mroll\u001b[0m\u001b[1;33m(\u001b[0m\u001b[0mself\u001b[0m\u001b[1;33m.\u001b[0m\u001b[0mps\u001b[0m\u001b[1;33m,\u001b[0m \u001b[1;36m1\u001b[0m\u001b[1;33m)\u001b[0m\u001b[1;33m\u001b[0m\u001b[1;33m\u001b[0m\u001b[0m\n\u001b[0;32m   1304\u001b[0m         \u001b[0mshift_ps\u001b[0m\u001b[1;33m[\u001b[0m\u001b[1;36m0\u001b[0m\u001b[1;33m]\u001b[0m \u001b[1;33m=\u001b[0m \u001b[1;36m0\u001b[0m\u001b[1;33m\u001b[0m\u001b[1;33m\u001b[0m\u001b[0m\n",
      "\u001b[1;32m~\\Desktop\\turyk\\ThinkStats2-master\\code\\thinkstats2.py\u001b[0m in \u001b[0;36minterleave\u001b[1;34m(a, b)\u001b[0m\n\u001b[0;32m   1295\u001b[0m         \u001b[1;32mdef\u001b[0m \u001b[0minterleave\u001b[0m\u001b[1;33m(\u001b[0m\u001b[0ma\u001b[0m\u001b[1;33m,\u001b[0m \u001b[0mb\u001b[0m\u001b[1;33m)\u001b[0m\u001b[1;33m:\u001b[0m\u001b[1;33m\u001b[0m\u001b[1;33m\u001b[0m\u001b[0m\n\u001b[0;32m   1296\u001b[0m             \u001b[0mc\u001b[0m \u001b[1;33m=\u001b[0m \u001b[0mnp\u001b[0m\u001b[1;33m.\u001b[0m\u001b[0mempty\u001b[0m\u001b[1;33m(\u001b[0m\u001b[0ma\u001b[0m\u001b[1;33m.\u001b[0m\u001b[0mshape\u001b[0m\u001b[1;33m[\u001b[0m\u001b[1;36m0\u001b[0m\u001b[1;33m]\u001b[0m \u001b[1;33m+\u001b[0m \u001b[0mb\u001b[0m\u001b[1;33m.\u001b[0m\u001b[0mshape\u001b[0m\u001b[1;33m[\u001b[0m\u001b[1;36m0\u001b[0m\u001b[1;33m]\u001b[0m\u001b[1;33m)\u001b[0m\u001b[1;33m\u001b[0m\u001b[1;33m\u001b[0m\u001b[0m\n\u001b[1;32m-> 1297\u001b[1;33m             \u001b[0mc\u001b[0m\u001b[1;33m[\u001b[0m\u001b[1;33m:\u001b[0m\u001b[1;33m:\u001b[0m\u001b[1;36m2\u001b[0m\u001b[1;33m]\u001b[0m \u001b[1;33m=\u001b[0m \u001b[0ma\u001b[0m\u001b[1;33m\u001b[0m\u001b[1;33m\u001b[0m\u001b[0m\n\u001b[0m\u001b[0;32m   1298\u001b[0m             \u001b[0mc\u001b[0m\u001b[1;33m[\u001b[0m\u001b[1;36m1\u001b[0m\u001b[1;33m:\u001b[0m\u001b[1;33m:\u001b[0m\u001b[1;36m2\u001b[0m\u001b[1;33m]\u001b[0m \u001b[1;33m=\u001b[0m \u001b[0mb\u001b[0m\u001b[1;33m\u001b[0m\u001b[1;33m\u001b[0m\u001b[0m\n\u001b[0;32m   1299\u001b[0m             \u001b[1;32mreturn\u001b[0m \u001b[0mc\u001b[0m\u001b[1;33m\u001b[0m\u001b[1;33m\u001b[0m\u001b[0m\n",
      "\u001b[1;31mValueError\u001b[0m: could not convert string to float: '-'"
     ]
    },
    {
     "data": {
      "image/png": "[encoded data removed]",
      "text/plain": [
       "<Figure size 432x288 with 1 Axes>"
      ]
     },
     "metadata": {
      "needs_background": "light"
     },
     "output_type": "display_data"
    }
   ],
   "source": [
    "thinkplot.Plot(sf)\n",
    "thinkplot.Cdf(cdf, alpha=0.2)\n",
    "thinkplot.Config(loc='center left')"
   ]
  },
  {
   "cell_type": "code",
   "execution_count": 41,
   "metadata": {},
   "outputs": [
    {
     "name": "stdout",
     "output_type": "stream",
     "text": [
      "0.007101355713363455\n"
     ]
    }
   ],
   "source": [
    "hf = sf.MakeHazardFunction(label='hazard')\n",
    "print(hf[0])"
   ]
  },
  {
   "cell_type": "code",
   "execution_count": 82,
   "metadata": {},
   "outputs": [
    {
     "data": {
      "image/png": "[encoded data removed]",
      "text/plain": [
       "<Figure size 432x288 with 1 Axes>"
      ]
     },
     "metadata": {
      "needs_background": "light"
     },
     "output_type": "display_data"
    }
   ],
   "source": [
    "thinkplot.Plot(hf)\n",
    "thinkplot.Config(ylim=[0, 0.75], loc='upper left')"
   ]
  },
  {
   "cell_type": "code",
   "execution_count": 83,
   "metadata": {},
   "outputs": [
    {
     "data": {
      "image/png": "[encoded data removed]",
      "text/plain": [
       "<Figure size 432x288 with 1 Axes>"
      ]
     },
     "metadata": {
      "needs_background": "light"
     },
     "output_type": "display_data"
    }
   ],
   "source": [
    "x = dataa[(dataa['Score']>5)].Episodes\n",
    "y = dataa[(dataa['Score']<5)].Episodes\n",
    "hf = EstimateHazardFunction(x, y)\n",
    "thinkplot.Plot(hf)\n",
    "thinkplot.Config(xlabel='Episodes',\n",
    "                 ylabel='Hazard')"
   ]
  },
  {
   "cell_type": "code",
   "execution_count": 84,
   "metadata": {},
   "outputs": [],
   "source": [
    "def ResampleSurvival(dataa, iters=70):\n",
    "    _, sf = EstimateMarriageSurvival(dataa)\n",
    "    thinkplot.Plot(sf)\n",
    "\n",
    "    low, high = dataa.Episodes.min(), dataa.Episodes.max()\n",
    "    ts = np.arange(low, high, 1/12.0)\n",
    "\n",
    "    ss_seq = []\n",
    "    for _ in range(iters):\n",
    "        sample = thinkstats2.ResampleRows(dataa)\n",
    "        _, sf = EstimateMarriageSurvival(sample)\n",
    "        ss_seq.append(sf.Probs(ts))\n",
    "\n",
    "    low, high = thinkstats2.PercentileRows(ss_seq, [5, 35])\n",
    "    thinkplot.FillBetween(ts, low, high, color='gray', label='90% CI')"
   ]
  },
  {
   "cell_type": "code",
   "execution_count": 85,
   "metadata": {},
   "outputs": [
    {
     "data": {
      "image/png": "[encoded data removed]",
      "text/plain": [
       "<Figure size 432x288 with 1 Axes>"
      ]
     },
     "metadata": {
      "needs_background": "light"
     },
     "output_type": "display_data"
    }
   ],
   "source": [
    "ResampleSurvival(dataa)\n",
    "thinkplot.Config(xlabel='Episodes (kg)',\n",
    "                 ylabel='Cholesterol',\n",
    "                 xlim=[29, 35],\n",
    "                 ylim=[0, 19],\n",
    "                 loc='upper right')"
   ]
  },
  {
   "cell_type": "code",
   "execution_count": null,
   "metadata": {},
   "outputs": [],
   "source": []
  },
  {
   "cell_type": "code",
   "execution_count": null,
   "metadata": {},
   "outputs": [],
   "source": []
  },
  {
   "cell_type": "code",
   "execution_count": null,
   "metadata": {},
   "outputs": [],
   "source": []
  },
  {
   "cell_type": "code",
   "execution_count": null,
   "metadata": {},
   "outputs": [],
   "source": []
  }
 ],
 "metadata": {
  "kernelspec": {
   "display_name": "Python 3",
   "language": "python",
   "name": "python3"
  },
  "language_info": {
   "codemirror_mode": {
    "name": "ipython",
    "version": 3
   },
   "file_extension": ".py",
   "mimetype": "text/x-python",
   "name": "python",
   "nbconvert_exporter": "python",
   "pygments_lexer": "ipython3",
   "version": "3.7.4"
  }
 },
 "nbformat": 4,
 "nbformat_minor": 2
}
