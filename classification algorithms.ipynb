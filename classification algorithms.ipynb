{
 "cells": [
  {
   "cell_type": "code",
   "execution_count": 1,
   "metadata": {},
   "outputs": [],
   "source": [
    "import pandas as pd\n",
    "import numpy as np\n",
    "import matplotlib.pyplot as plt\n",
    "import seaborn as sns\n",
    "%matplotlib inline"
   ]
  },
  {
   "cell_type": "code",
   "execution_count": 2,
   "metadata": {
    "scrolled": true
   },
   "outputs": [
    {
     "data": {
      "text/html": [
       "<div>\n",
       "<style scoped>\n",
       "    .dataframe tbody tr th:only-of-type {\n",
       "        vertical-align: middle;\n",
       "    }\n",
       "\n",
       "    .dataframe tbody tr th {\n",
       "        vertical-align: top;\n",
       "    }\n",
       "\n",
       "    .dataframe thead th {\n",
       "        text-align: right;\n",
       "    }\n",
       "</style>\n",
       "<table border=\"1\" class=\"dataframe\">\n",
       "  <thead>\n",
       "    <tr style=\"text-align: right;\">\n",
       "      <th></th>\n",
       "      <th>Title</th>\n",
       "      <th>Type</th>\n",
       "      <th>Episodes</th>\n",
       "      <th>Status</th>\n",
       "      <th>Start airing</th>\n",
       "      <th>End airing</th>\n",
       "      <th>Starting season</th>\n",
       "      <th>Broadcast time</th>\n",
       "      <th>Producers</th>\n",
       "      <th>Licensors</th>\n",
       "      <th>Studios</th>\n",
       "      <th>Sources</th>\n",
       "      <th>Genres</th>\n",
       "      <th>Duration</th>\n",
       "      <th>Rating</th>\n",
       "      <th>Score</th>\n",
       "      <th>Scored by</th>\n",
       "      <th>Members</th>\n",
       "      <th>Favorites</th>\n",
       "      <th>Description</th>\n",
       "    </tr>\n",
       "  </thead>\n",
       "  <tbody>\n",
       "    <tr>\n",
       "      <td>532</td>\n",
       "      <td>Digimon Adventure tri. 3: Kokuhaku</td>\n",
       "      <td>Movie</td>\n",
       "      <td>1</td>\n",
       "      <td>Finished Airing</td>\n",
       "      <td>2016-9-24</td>\n",
       "      <td>-</td>\n",
       "      <td>-</td>\n",
       "      <td>-</td>\n",
       "      <td>Bandai,Ai Addiction</td>\n",
       "      <td>Shout! Factory</td>\n",
       "      <td>Toei Animation</td>\n",
       "      <td>Original</td>\n",
       "      <td>Action,Adventure,Comedy,Drama</td>\n",
       "      <td>1 hr. 45 min.</td>\n",
       "      <td>PG-13</td>\n",
       "      <td>7.98</td>\n",
       "      <td>19394</td>\n",
       "      <td>38530</td>\n",
       "      <td>119</td>\n",
       "      <td>Taichi and friends can't hide how disturbing i...</td>\n",
       "    </tr>\n",
       "    <tr>\n",
       "      <td>700</td>\n",
       "      <td>Heartcatch Precure!</td>\n",
       "      <td>TV</td>\n",
       "      <td>49</td>\n",
       "      <td>Finished Airing</td>\n",
       "      <td>2010-2-7</td>\n",
       "      <td>2011-1-30</td>\n",
       "      <td>Winter</td>\n",
       "      <td>Sundays at 08:30 (JST)</td>\n",
       "      <td>-</td>\n",
       "      <td>-</td>\n",
       "      <td>Toei Animation</td>\n",
       "      <td>Original</td>\n",
       "      <td>Action,Slice of Life,Fantasy,Magic,Comedy,Scho...</td>\n",
       "      <td>24 min. per ep.</td>\n",
       "      <td>G</td>\n",
       "      <td>7.87</td>\n",
       "      <td>5369</td>\n",
       "      <td>16243</td>\n",
       "      <td>359</td>\n",
       "      <td>2nd year middle school student Tsubomi Hanasak...</td>\n",
       "    </tr>\n",
       "    <tr>\n",
       "      <td>829</td>\n",
       "      <td>Akagami no Shirayuki-hime: Nandemonai Takaramo...</td>\n",
       "      <td>OVA</td>\n",
       "      <td>1</td>\n",
       "      <td>Finished Airing</td>\n",
       "      <td>2016-1-5</td>\n",
       "      <td>-</td>\n",
       "      <td>-</td>\n",
       "      <td>-</td>\n",
       "      <td>-</td>\n",
       "      <td>-</td>\n",
       "      <td>Bones</td>\n",
       "      <td>Manga</td>\n",
       "      <td>Drama,Fantasy,Romance,Shoujo</td>\n",
       "      <td>24 min.</td>\n",
       "      <td>PG-13</td>\n",
       "      <td>7.79</td>\n",
       "      <td>16706</td>\n",
       "      <td>33741</td>\n",
       "      <td>89</td>\n",
       "      <td>Bundled with the limited edition 15th volume o...</td>\n",
       "    </tr>\n",
       "    <tr>\n",
       "      <td>943</td>\n",
       "      <td>Initial D Battle Stage 2</td>\n",
       "      <td>OVA</td>\n",
       "      <td>1</td>\n",
       "      <td>Finished Airing</td>\n",
       "      <td>2007-5-30</td>\n",
       "      <td>-</td>\n",
       "      <td>-</td>\n",
       "      <td>-</td>\n",
       "      <td>OB Planning</td>\n",
       "      <td>-</td>\n",
       "      <td>A.C.G.T.</td>\n",
       "      <td>Manga</td>\n",
       "      <td>Action,Cars,Sports,Drama,Seinen</td>\n",
       "      <td>1 hr. 20 min.</td>\n",
       "      <td>PG-13</td>\n",
       "      <td>7.74</td>\n",
       "      <td>7061</td>\n",
       "      <td>14482</td>\n",
       "      <td>17</td>\n",
       "      <td>This is simply the OAV summing up the major ev...</td>\n",
       "    </tr>\n",
       "    <tr>\n",
       "      <td>239</td>\n",
       "      <td>Black Lagoon: The Second Barrage</td>\n",
       "      <td>TV</td>\n",
       "      <td>12</td>\n",
       "      <td>Finished Airing</td>\n",
       "      <td>2006-10-3</td>\n",
       "      <td>2006-12-19</td>\n",
       "      <td>Fall</td>\n",
       "      <td>-</td>\n",
       "      <td>Geneon Universal Entertainment,Front Line</td>\n",
       "      <td>Funimation,Geneon Entertainment USA</td>\n",
       "      <td>Madhouse</td>\n",
       "      <td>Manga</td>\n",
       "      <td>Action,Seinen</td>\n",
       "      <td>24 min. per ep.</td>\n",
       "      <td>R</td>\n",
       "      <td>8.27</td>\n",
       "      <td>163780</td>\n",
       "      <td>258565</td>\n",
       "      <td>1855</td>\n",
       "      <td>Rokurou \"Rock\" Okajima has joined the Lagoon C...</td>\n",
       "    </tr>\n",
       "  </tbody>\n",
       "</table>\n",
       "</div>"
      ],
      "text/plain": [
       "                                                 Title   Type Episodes  \\\n",
       "532                 Digimon Adventure tri. 3: Kokuhaku  Movie        1   \n",
       "700                                Heartcatch Precure!     TV       49   \n",
       "829  Akagami no Shirayuki-hime: Nandemonai Takaramo...    OVA        1   \n",
       "943                           Initial D Battle Stage 2    OVA        1   \n",
       "239                   Black Lagoon: The Second Barrage     TV       12   \n",
       "\n",
       "              Status Start airing  End airing Starting season  \\\n",
       "532  Finished Airing    2016-9-24           -               -   \n",
       "700  Finished Airing     2010-2-7   2011-1-30          Winter   \n",
       "829  Finished Airing     2016-1-5           -               -   \n",
       "943  Finished Airing    2007-5-30           -               -   \n",
       "239  Finished Airing    2006-10-3  2006-12-19            Fall   \n",
       "\n",
       "             Broadcast time                                  Producers  \\\n",
       "532                       -                        Bandai,Ai Addiction   \n",
       "700  Sundays at 08:30 (JST)                                          -   \n",
       "829                       -                                          -   \n",
       "943                       -                                OB Planning   \n",
       "239                       -  Geneon Universal Entertainment,Front Line   \n",
       "\n",
       "                               Licensors         Studios   Sources  \\\n",
       "532                       Shout! Factory  Toei Animation  Original   \n",
       "700                                    -  Toei Animation  Original   \n",
       "829                                    -           Bones     Manga   \n",
       "943                                    -        A.C.G.T.     Manga   \n",
       "239  Funimation,Geneon Entertainment USA        Madhouse     Manga   \n",
       "\n",
       "                                                Genres         Duration  \\\n",
       "532                      Action,Adventure,Comedy,Drama    1 hr. 45 min.   \n",
       "700  Action,Slice of Life,Fantasy,Magic,Comedy,Scho...  24 min. per ep.   \n",
       "829                       Drama,Fantasy,Romance,Shoujo          24 min.   \n",
       "943                    Action,Cars,Sports,Drama,Seinen    1 hr. 20 min.   \n",
       "239                                      Action,Seinen  24 min. per ep.   \n",
       "\n",
       "    Rating  Score  Scored by  Members  Favorites  \\\n",
       "532  PG-13   7.98      19394    38530        119   \n",
       "700      G   7.87       5369    16243        359   \n",
       "829  PG-13   7.79      16706    33741         89   \n",
       "943  PG-13   7.74       7061    14482         17   \n",
       "239      R   8.27     163780   258565       1855   \n",
       "\n",
       "                                           Description  \n",
       "532  Taichi and friends can't hide how disturbing i...  \n",
       "700  2nd year middle school student Tsubomi Hanasak...  \n",
       "829  Bundled with the limited edition 15th volume o...  \n",
       "943  This is simply the OAV summing up the major ev...  \n",
       "239  Rokurou \"Rock\" Okajima has joined the Lagoon C...  "
      ]
     },
     "execution_count": 2,
     "metadata": {},
     "output_type": "execute_result"
    }
   ],
   "source": [
    "dataset = pd.read_csv('dataanime.csv')\n",
    "dataset.sample(5)"
   ]
  },
  {
   "cell_type": "code",
   "execution_count": 3,
   "metadata": {},
   "outputs": [],
   "source": [
    "# dataset.Type.value_counts()"
   ]
  },
  {
   "cell_type": "code",
   "execution_count": 4,
   "metadata": {},
   "outputs": [
    {
     "data": {
      "text/plain": [
       "Index(['Title', 'Type', 'Episodes', 'Status', 'Start airing', 'End airing',\n",
       "       'Starting season', 'Broadcast time', 'Producers', 'Licensors',\n",
       "       'Studios', 'Sources', 'Genres', 'Duration', 'Rating', 'Score',\n",
       "       'Scored by', 'Members', 'Favorites', 'Description'],\n",
       "      dtype='object')"
      ]
     },
     "execution_count": 4,
     "metadata": {},
     "output_type": "execute_result"
    }
   ],
   "source": [
    "# dataset.columns\n",
    "dataset.keys()"
   ]
  },
  {
   "cell_type": "code",
   "execution_count": 5,
   "metadata": {},
   "outputs": [
    {
     "data": {
      "text/plain": [
       "Title              1563\n",
       "Type                  6\n",
       "Episodes            107\n",
       "Status                2\n",
       "Start airing       1170\n",
       "End airing          761\n",
       "Starting season       5\n",
       "Broadcast time      199\n",
       "Producers           809\n",
       "Licensors           111\n",
       "Studios             200\n",
       "Sources              14\n",
       "Genres             1004\n",
       "Duration            171\n",
       "Rating                5\n",
       "Score               146\n",
       "Scored by          1548\n",
       "Members            1548\n",
       "Favorites           924\n",
       "Description        1545\n",
       "dtype: int64"
      ]
     },
     "execution_count": 5,
     "metadata": {},
     "output_type": "execute_result"
    }
   ],
   "source": [
    "dataset.nunique()"
   ]
  },
  {
   "cell_type": "code",
   "execution_count": 6,
   "metadata": {},
   "outputs": [],
   "source": [
    "# new_ds = dataset.drop(['Title','Episodes' ,'Producers','Licensors','Starting_season','Studios','Genres', 'Duration', 'Members','Favorites','Description','Start_airing' ,'End_airing', 'Broadcast_time' ,'Scored_by'],axis=1)\n",
    "new_ds = dataset.drop(['Title','Episodes' ,'Producers','Licensors','Starting season','Studios','Genres','Duration', 'Members','Favorites','Description','Start airing' ,'End airing', 'Broadcast time' ,'Scored by'],axis=1)"
   ]
  },
  {
   "cell_type": "markdown",
   "metadata": {},
   "source": [
    "## Data Preprocessing"
   ]
  },
  {
   "cell_type": "code",
   "execution_count": 7,
   "metadata": {},
   "outputs": [],
   "source": [
    "new_ds.dropna(inplace=True) "
   ]
  },
  {
   "cell_type": "code",
   "execution_count": 8,
   "metadata": {
    "scrolled": false
   },
   "outputs": [
    {
     "data": {
      "text/plain": [
       "Type       0\n",
       "Status     0\n",
       "Sources    0\n",
       "Rating     0\n",
       "Score      0\n",
       "dtype: int64"
      ]
     },
     "execution_count": 8,
     "metadata": {},
     "output_type": "execute_result"
    }
   ],
   "source": [
    "new_ds.isna().sum()"
   ]
  },
  {
   "cell_type": "code",
   "execution_count": 9,
   "metadata": {},
   "outputs": [],
   "source": [
    "new_ds[\"Status\"]= new_ds[\"Status\"].replace(\"Finished Airing\", \"0\") \n",
    "new_ds[\"Status\"]= new_ds[\"Status\"].replace(\"Currently Airing\", \"1\") \n",
    "\n",
    "new_ds = new_ds[new_ds.Type!='Music']\n",
    "new_ds = new_ds[new_ds.Type!='ONA']\n",
    "new_ds = new_ds[new_ds.Type!='Special']\n",
    "new_ds = new_ds[new_ds.Type!='OVA']\n",
    "\n",
    "new_ds[\"Rating\"]= new_ds[\"Rating\"].replace(\"R\", \"5\") \n",
    "new_ds[\"Rating\"]= new_ds[\"Rating\"].replace(\"PG-13\", \"4\") \n",
    "new_ds[\"Rating\"]= new_ds[\"Rating\"].replace(\"PG\", \"3\") \n",
    "new_ds[\"Rating\"]= new_ds[\"Rating\"].replace(\"G\", \"2\") \n",
    "new_ds[\"Rating\"]= new_ds[\"Rating\"].replace(\"None\", \"1\") "
   ]
  },
  {
   "cell_type": "code",
   "execution_count": 10,
   "metadata": {
    "scrolled": true
   },
   "outputs": [
    {
     "data": {
      "image/png": "[encoded data removed]",
      "text/plain": [
       "<Figure size 432x288 with 1 Axes>"
      ]
     },
     "metadata": {
      "needs_background": "light"
     },
     "output_type": "display_data"
    }
   ],
   "source": [
    "ax = sns.countplot(new_ds.Sources)\n",
    "ax.set_xticklabels(ax.get_xticklabels(), rotation=40, ha=\"right\")\n",
    "plt.show()"
   ]
  },
  {
   "cell_type": "code",
   "execution_count": 11,
   "metadata": {},
   "outputs": [],
   "source": [
    "new_ds[\"Sources\"]= new_ds[\"Sources\"].replace(\"Manga\", \"1\") \n",
    "new_ds[\"Sources\"]= new_ds[\"Sources\"].replace(\"Original\", \"2\") \n",
    "new_ds['Sources'].replace(to_replace=['Light novel','Novel','Visual novel','Web manga','Other','4-koma manga','-','Game','Picture book','Book','Music','Card game'],\n",
    "    value='3',\n",
    "    inplace=True\n",
    ")"
   ]
  },
  {
   "cell_type": "code",
   "execution_count": 12,
   "metadata": {},
   "outputs": [
    {
     "data": {
      "text/html": [
       "<div>\n",
       "<style scoped>\n",
       "    .dataframe tbody tr th:only-of-type {\n",
       "        vertical-align: middle;\n",
       "    }\n",
       "\n",
       "    .dataframe tbody tr th {\n",
       "        vertical-align: top;\n",
       "    }\n",
       "\n",
       "    .dataframe thead th {\n",
       "        text-align: right;\n",
       "    }\n",
       "</style>\n",
       "<table border=\"1\" class=\"dataframe\">\n",
       "  <thead>\n",
       "    <tr style=\"text-align: right;\">\n",
       "      <th></th>\n",
       "      <th>Type</th>\n",
       "      <th>Status</th>\n",
       "      <th>Sources</th>\n",
       "      <th>Rating</th>\n",
       "      <th>Score</th>\n",
       "    </tr>\n",
       "  </thead>\n",
       "  <tbody>\n",
       "    <tr>\n",
       "      <td>0</td>\n",
       "      <td>TV</td>\n",
       "      <td>0</td>\n",
       "      <td>1</td>\n",
       "      <td>5</td>\n",
       "      <td>9.25</td>\n",
       "    </tr>\n",
       "    <tr>\n",
       "      <td>1</td>\n",
       "      <td>Movie</td>\n",
       "      <td>0</td>\n",
       "      <td>2</td>\n",
       "      <td>4</td>\n",
       "      <td>9.19</td>\n",
       "    </tr>\n",
       "    <tr>\n",
       "      <td>2</td>\n",
       "      <td>TV</td>\n",
       "      <td>0</td>\n",
       "      <td>1</td>\n",
       "      <td>5</td>\n",
       "      <td>9.16</td>\n",
       "    </tr>\n",
       "    <tr>\n",
       "      <td>3</td>\n",
       "      <td>TV</td>\n",
       "      <td>1</td>\n",
       "      <td>3</td>\n",
       "      <td>4</td>\n",
       "      <td>9.16</td>\n",
       "    </tr>\n",
       "    <tr>\n",
       "      <td>4</td>\n",
       "      <td>TV</td>\n",
       "      <td>0</td>\n",
       "      <td>3</td>\n",
       "      <td>4</td>\n",
       "      <td>9.14</td>\n",
       "    </tr>\n",
       "  </tbody>\n",
       "</table>\n",
       "</div>"
      ],
      "text/plain": [
       "    Type Status Sources Rating  Score\n",
       "0     TV      0       1      5   9.25\n",
       "1  Movie      0       2      4   9.19\n",
       "2     TV      0       1      5   9.16\n",
       "3     TV      1       3      4   9.16\n",
       "4     TV      0       3      4   9.14"
      ]
     },
     "execution_count": 12,
     "metadata": {},
     "output_type": "execute_result"
    }
   ],
   "source": [
    "new_ds.head()"
   ]
  },
  {
   "cell_type": "code",
   "execution_count": 13,
   "metadata": {},
   "outputs": [
    {
     "data": {
      "text/plain": [
       "1    571\n",
       "3    353\n",
       "2    230\n",
       "Name: Sources, dtype: int64"
      ]
     },
     "execution_count": 13,
     "metadata": {},
     "output_type": "execute_result"
    }
   ],
   "source": [
    "new_ds.Sources.value_counts()"
   ]
  },
  {
   "cell_type": "code",
   "execution_count": 14,
   "metadata": {},
   "outputs": [],
   "source": [
    "x=new_ds.drop('Type',axis=1).values\n",
    "y=new_ds.Type.values"
   ]
  },
  {
   "cell_type": "code",
   "execution_count": 15,
   "metadata": {},
   "outputs": [
    {
     "data": {
      "text/plain": [
       "(1154, 4)"
      ]
     },
     "execution_count": 15,
     "metadata": {},
     "output_type": "execute_result"
    }
   ],
   "source": [
    "x.shape"
   ]
  },
  {
   "cell_type": "code",
   "execution_count": 16,
   "metadata": {},
   "outputs": [
    {
     "data": {
      "text/plain": [
       "(1154,)"
      ]
     },
     "execution_count": 16,
     "metadata": {},
     "output_type": "execute_result"
    }
   ],
   "source": [
    "y.shape"
   ]
  },
  {
   "cell_type": "code",
   "execution_count": 17,
   "metadata": {},
   "outputs": [],
   "source": [
    "from sklearn.preprocessing import StandardScaler\n",
    "from sklearn.model_selection import train_test_split"
   ]
  },
  {
   "cell_type": "code",
   "execution_count": 18,
   "metadata": {},
   "outputs": [],
   "source": [
    "sc=StandardScaler()"
   ]
  },
  {
   "cell_type": "code",
   "execution_count": 19,
   "metadata": {
    "scrolled": true
   },
   "outputs": [],
   "source": [
    "x=sc.fit_transform(x)"
   ]
  },
  {
   "cell_type": "code",
   "execution_count": 20,
   "metadata": {},
   "outputs": [
    {
     "name": "stdout",
     "output_type": "stream",
     "text": [
      "(923, 4) (231, 4) (923,) (231,)\n"
     ]
    }
   ],
   "source": [
    "x_train, x_test, y_train, y_test=train_test_split(x,y, test_size=0.2,random_state=0,stratify=y)\n",
    "\n",
    "print(x_train.shape, x_test.shape, y_train.shape, y_test.shape)"
   ]
  },
  {
   "cell_type": "markdown",
   "metadata": {},
   "source": [
    "## K-Nearest Neighbours (KNN)"
   ]
  },
  {
   "cell_type": "code",
   "execution_count": 21,
   "metadata": {},
   "outputs": [],
   "source": [
    "from sklearn.neighbors import KNeighborsClassifier"
   ]
  },
  {
   "cell_type": "code",
   "execution_count": 98,
   "metadata": {},
   "outputs": [
    {
     "data": {
      "text/plain": [
       "KNeighborsClassifier(n_neighbors=15)"
      ]
     },
     "execution_count": 98,
     "metadata": {},
     "output_type": "execute_result"
    }
   ],
   "source": [
    "knn=KNeighborsClassifier(n_neighbors=15)\n",
    "knn.fit(x_train,y_train)"
   ]
  },
  {
   "cell_type": "code",
   "execution_count": 99,
   "metadata": {
    "scrolled": true
   },
   "outputs": [],
   "source": [
    "y_preds=knn.predict(x_test)"
   ]
  },
  {
   "cell_type": "code",
   "execution_count": 100,
   "metadata": {},
   "outputs": [],
   "source": [
    "from sklearn.metrics import classification_report, accuracy_score, confusion_matrix"
   ]
  },
  {
   "cell_type": "code",
   "execution_count": 101,
   "metadata": {},
   "outputs": [
    {
     "data": {
      "text/plain": [
       "0.7186147186147186"
      ]
     },
     "execution_count": 101,
     "metadata": {},
     "output_type": "execute_result"
    }
   ],
   "source": [
    "accuracy_score(y_test,y_preds)"
   ]
  },
  {
   "cell_type": "code",
   "execution_count": 102,
   "metadata": {
    "scrolled": true
   },
   "outputs": [
    {
     "name": "stdout",
     "output_type": "stream",
     "text": [
      "              precision    recall  f1-score   support\n",
      "\n",
      "       Movie       0.56      0.13      0.22        67\n",
      "          TV       0.73      0.96      0.83       164\n",
      "\n",
      "    accuracy                           0.72       231\n",
      "   macro avg       0.65      0.55      0.52       231\n",
      "weighted avg       0.68      0.72      0.65       231\n",
      "\n"
     ]
    }
   ],
   "source": [
    "print(classification_report(y_test, y_preds))"
   ]
  },
  {
   "cell_type": "code",
   "execution_count": 103,
   "metadata": {},
   "outputs": [],
   "source": [
    "import matplotlib.font_manager as fm\n"
   ]
  },
  {
   "cell_type": "code",
   "execution_count": 129,
   "metadata": {},
   "outputs": [
    {
     "data": {
      "text/plain": [
       "array([[  9,  58],\n",
       "       [  7, 157]], dtype=int64)"
      ]
     },
     "execution_count": 129,
     "metadata": {},
     "output_type": "execute_result"
    }
   ],
   "source": [
    "cm = confusion_matrix(y_test, y_preds)\n",
    "cm"
   ]
  },
  {
   "cell_type": "code",
   "execution_count": 131,
   "metadata": {},
   "outputs": [],
   "source": [
    "# !pip install --upgrade scikit-learn"
   ]
  },
  {
   "cell_type": "code",
   "execution_count": 132,
   "metadata": {
    "scrolled": false
   },
   "outputs": [],
   "source": [
    "from sklearn.metrics import plot_confusion_matrix\n",
    "from sklearn.metrics import ConfusionMatrixDisplay"
   ]
  },
  {
   "cell_type": "code",
   "execution_count": 163,
   "metadata": {},
   "outputs": [
    {
     "data": {
      "image/png": "[encoded data removed]",
      "text/plain": [
       "<Figure size 432x288 with 2 Axes>"
      ]
     },
     "metadata": {
      "needs_background": "light"
     },
     "output_type": "display_data"
    }
   ],
   "source": [
    "# 3\n",
    "disp = ConfusionMatrixDisplay(confusion_matrix=cm,\n",
    "                              display_labels=['TV','Movie'])\n",
    "\n",
    "disp = disp.plot(include_values=True, cmap='YlGnBu', xticks_rotation='horizontal')\n",
    "plt.show()"
   ]
  },
  {
   "cell_type": "markdown",
   "metadata": {},
   "source": [
    "## Linear Regression"
   ]
  },
  {
   "cell_type": "code",
   "execution_count": 134,
   "metadata": {},
   "outputs": [],
   "source": [
    "from sklearn.linear_model import LogisticRegression"
   ]
  },
  {
   "cell_type": "code",
   "execution_count": 135,
   "metadata": {
    "scrolled": true
   },
   "outputs": [
    {
     "data": {
      "text/plain": [
       "LogisticRegression()"
      ]
     },
     "execution_count": 135,
     "metadata": {},
     "output_type": "execute_result"
    }
   ],
   "source": [
    "reg = LogisticRegression()\n",
    "reg.fit(x_train, y_train)"
   ]
  },
  {
   "cell_type": "code",
   "execution_count": 136,
   "metadata": {},
   "outputs": [],
   "source": [
    "y_preds_regr = reg.predict(x_test)"
   ]
  },
  {
   "cell_type": "code",
   "execution_count": 137,
   "metadata": {},
   "outputs": [
    {
     "name": "stdout",
     "output_type": "stream",
     "text": [
      "              precision    recall  f1-score   support\n",
      "\n",
      "       Movie       0.42      0.07      0.13        67\n",
      "          TV       0.72      0.96      0.82       164\n",
      "\n",
      "    accuracy                           0.70       231\n",
      "   macro avg       0.57      0.52      0.47       231\n",
      "weighted avg       0.63      0.70      0.62       231\n",
      "\n"
     ]
    }
   ],
   "source": [
    "print(classification_report(y_test, y_preds_regr))"
   ]
  },
  {
   "cell_type": "code",
   "execution_count": 138,
   "metadata": {},
   "outputs": [
    {
     "data": {
      "text/plain": [
       "0.7012987012987013"
      ]
     },
     "execution_count": 138,
     "metadata": {},
     "output_type": "execute_result"
    }
   ],
   "source": [
    "reg.score(x_test, y_test)"
   ]
  },
  {
   "cell_type": "code",
   "execution_count": 139,
   "metadata": {},
   "outputs": [
    {
     "data": {
      "text/plain": [
       "0.7012987012987013"
      ]
     },
     "execution_count": 139,
     "metadata": {},
     "output_type": "execute_result"
    }
   ],
   "source": [
    "accuracy_score(y_test, y_preds_regr)"
   ]
  },
  {
   "cell_type": "code",
   "execution_count": 169,
   "metadata": {},
   "outputs": [
    {
     "data": {
      "image/png": "[encoded data removed]",
      "text/plain": [
       "<Figure size 1080x72 with 1 Axes>"
      ]
     },
     "metadata": {
      "needs_background": "light"
     },
     "output_type": "display_data"
    }
   ],
   "source": [
    "plt.figure(figsize=[15,1])\n",
    "plt.plot(y_preds_regr)\n",
    "plt.title('Number of TV/Movie Comparison\\n')\n",
    "plt.show()"
   ]
  },
  {
   "cell_type": "code",
   "execution_count": 141,
   "metadata": {},
   "outputs": [
    {
     "data": {
      "image/png": "[encoded data removed]",
      "text/plain": [
       "<Figure size 432x288 with 2 Axes>"
      ]
     },
     "metadata": {
      "needs_background": "light"
     },
     "output_type": "display_data"
    }
   ],
   "source": [
    "linreg_cm = confusion_matrix(y_test, y_preds_regr)\n",
    "reg_disp = ConfusionMatrixDisplay(confusion_matrix=linreg_cm,\n",
    "                              display_labels=['TV','Movie'])\n",
    "\n",
    "reg_disp = reg_disp.plot(include_values=True, cmap='viridis', xticks_rotation='horizontal')\n",
    "plt.show()"
   ]
  },
  {
   "cell_type": "markdown",
   "metadata": {},
   "source": [
    "## Naive Bayes"
   ]
  },
  {
   "cell_type": "code",
   "execution_count": 142,
   "metadata": {},
   "outputs": [],
   "source": [
    "from sklearn.naive_bayes import GaussianNB"
   ]
  },
  {
   "cell_type": "code",
   "execution_count": 143,
   "metadata": {},
   "outputs": [],
   "source": [
    "nb = GaussianNB()\n",
    "nb.fit(x_train,y_train)\n",
    "lol=nb.fit(x_train,y_train)"
   ]
  },
  {
   "cell_type": "code",
   "execution_count": 144,
   "metadata": {},
   "outputs": [
    {
     "name": "stdout",
     "output_type": "stream",
     "text": [
      "Training Accuracy :  0.5720476706392199\n",
      "Testing  Accuracy :  0.5541125541125541\n"
     ]
    }
   ],
   "source": [
    "y_train_pred = nb.predict(x_train)\n",
    "y_test_pred = nb.predict(x_test)\n",
    "\n",
    "print('Training Accuracy : ',np.mean(y_train_pred==y_train))\n",
    "print('Testing  Accuracy : ',np.mean(y_test_pred==y_test))"
   ]
  },
  {
   "cell_type": "code",
   "execution_count": 145,
   "metadata": {},
   "outputs": [
    {
     "data": {
      "image/png": "[encoded data removed]",
      "text/plain": [
       "<Figure size 432x288 with 2 Axes>"
      ]
     },
     "metadata": {
      "needs_background": "light"
     },
     "output_type": "display_data"
    }
   ],
   "source": [
    "nb_cm = confusion_matrix(y_test, y_test_pred)\n",
    "nb_disp = ConfusionMatrixDisplay(confusion_matrix=nb_cm,\n",
    "                              display_labels=['TV','Movie'])\n",
    "\n",
    "nb_disp = nb_disp.plot(include_values=True, cmap='viridis', xticks_rotation='horizontal')\n",
    "plt.show()"
   ]
  },
  {
   "cell_type": "markdown",
   "metadata": {},
   "source": [
    "## Stochastic Gradient Descent"
   ]
  },
  {
   "cell_type": "code",
   "execution_count": 121,
   "metadata": {},
   "outputs": [],
   "source": [
    "from sklearn.linear_model import SGDClassifier"
   ]
  },
  {
   "cell_type": "code",
   "execution_count": 122,
   "metadata": {},
   "outputs": [
    {
     "data": {
      "text/plain": [
       "SGDClassifier(loss='modified_huber', random_state=101)"
      ]
     },
     "execution_count": 122,
     "metadata": {},
     "output_type": "execute_result"
    }
   ],
   "source": [
    "sgd = SGDClassifier(loss='modified_huber',shuffle=True,random_state=101)\n",
    "sgd.fit(x_train,y_train)"
   ]
  },
  {
   "cell_type": "code",
   "execution_count": 123,
   "metadata": {},
   "outputs": [],
   "source": [
    "y_pred_sgd = sgd.predict(x_test)"
   ]
  },
  {
   "cell_type": "code",
   "execution_count": 124,
   "metadata": {},
   "outputs": [
    {
     "data": {
      "text/plain": [
       "0.7272727272727273"
      ]
     },
     "execution_count": 124,
     "metadata": {},
     "output_type": "execute_result"
    }
   ],
   "source": [
    "accuracy_score(y_test, y_pred_sgd)"
   ]
  },
  {
   "cell_type": "code",
   "execution_count": 188,
   "metadata": {},
   "outputs": [
    {
     "data": {
      "image/png": "[encoded data removed]",
      "text/plain": [
       "<Figure size 1080x72 with 1 Axes>"
      ]
     },
     "metadata": {
      "needs_background": "light"
     },
     "output_type": "display_data"
    }
   ],
   "source": [
    "plt.figure(figsize=[15,1])\n",
    "plt.plot(y_test)\n",
    "plt.title('Actual Numbers of TV/Movie\\n')\n",
    "plt.show()"
   ]
  },
  {
   "cell_type": "code",
   "execution_count": 189,
   "metadata": {},
   "outputs": [
    {
     "data": {
      "image/png": "[encoded data removed]",
      "text/plain": [
       "<Figure size 1080x72 with 1 Axes>"
      ]
     },
     "metadata": {
      "needs_background": "light"
     },
     "output_type": "display_data"
    }
   ],
   "source": [
    "plt.figure(figsize=[15,1])\n",
    "plt.plot(y_pred_sgd, color='r')\n",
    "plt.title('Presicted Numbers of TV/Movie\\n')\n",
    "plt.show()"
   ]
  },
  {
   "cell_type": "code",
   "execution_count": 165,
   "metadata": {
    "scrolled": true
   },
   "outputs": [
    {
     "data": {
      "image/png": "[encoded data removed]",
      "text/plain": [
       "<Figure size 432x288 with 2 Axes>"
      ]
     },
     "metadata": {
      "needs_background": "light"
     },
     "output_type": "display_data"
    }
   ],
   "source": [
    "sgd_cm = confusion_matrix(y_test, y_pred_sgd)\n",
    "sgd_disp = ConfusionMatrixDisplay(confusion_matrix=sgd_cm,\n",
    "                              display_labels=['TV','Movie'])\n",
    "\n",
    "sgd_disp = sgd_disp.plot(include_values=True, cmap='viridis', xticks_rotation='horizontal')\n",
    "plt.show()"
   ]
  },
  {
   "cell_type": "markdown",
   "metadata": {},
   "source": [
    "## Decision Tree"
   ]
  },
  {
   "cell_type": "code",
   "execution_count": 147,
   "metadata": {},
   "outputs": [],
   "source": [
    "from sklearn.tree import DecisionTreeClassifier "
   ]
  },
  {
   "cell_type": "code",
   "execution_count": 148,
   "metadata": {
    "scrolled": true
   },
   "outputs": [
    {
     "data": {
      "text/plain": [
       "DecisionTreeClassifier(max_depth=10, min_samples_leaf=15, random_state=101)"
      ]
     },
     "execution_count": 148,
     "metadata": {},
     "output_type": "execute_result"
    }
   ],
   "source": [
    "dtree = DecisionTreeClassifier(max_depth=10, max_features=None, random_state=101, min_samples_leaf=15)\n",
    "dtree.fit(x_train, y_train)"
   ]
  },
  {
   "cell_type": "code",
   "execution_count": 149,
   "metadata": {},
   "outputs": [],
   "source": [
    "y_pred_dtree = dtree.predict(x_test)"
   ]
  },
  {
   "cell_type": "code",
   "execution_count": 150,
   "metadata": {
    "scrolled": true
   },
   "outputs": [
    {
     "data": {
      "text/plain": [
       "0.6753246753246753"
      ]
     },
     "execution_count": 150,
     "metadata": {},
     "output_type": "execute_result"
    }
   ],
   "source": [
    "accuracy_score(y_test, y_pred_dtree)"
   ]
  },
  {
   "cell_type": "code",
   "execution_count": 151,
   "metadata": {},
   "outputs": [
    {
     "data": {
      "image/png": "[encoded data removed]",
      "text/plain": [
       "<Figure size 432x288 with 2 Axes>"
      ]
     },
     "metadata": {
      "needs_background": "light"
     },
     "output_type": "display_data"
    }
   ],
   "source": [
    "dtree_cm = confusion_matrix(y_test, y_pred_dtree)\n",
    "dtree_disp = ConfusionMatrixDisplay(confusion_matrix=dtree_cm,\n",
    "                              display_labels=['TV','Movie'])\n",
    "\n",
    "dtree_disp = dtree_disp.plot(include_values=True, cmap='viridis', xticks_rotation='horizontal')\n",
    "plt.show()"
   ]
  },
  {
   "cell_type": "markdown",
   "metadata": {},
   "source": [
    "## Random Forest"
   ]
  },
  {
   "cell_type": "code",
   "execution_count": 152,
   "metadata": {},
   "outputs": [],
   "source": [
    "from sklearn.ensemble import RandomForestClassifier"
   ]
  },
  {
   "cell_type": "code",
   "execution_count": 153,
   "metadata": {},
   "outputs": [
    {
     "data": {
      "text/plain": [
       "RandomForestClassifier(max_features=None, min_samples_leaf=30, n_estimators=7,\n",
       "                       n_jobs=-1, random_state=101)"
      ]
     },
     "execution_count": 153,
     "metadata": {},
     "output_type": "execute_result"
    }
   ],
   "source": [
    "rf = RandomForestClassifier(n_estimators=7,n_jobs=-1,max_features=None, random_state=101,min_samples_leaf=30)\n",
    "rf.fit(x_train, y_train)"
   ]
  },
  {
   "cell_type": "code",
   "execution_count": 154,
   "metadata": {},
   "outputs": [],
   "source": [
    "y_pred_rf = rf.predict(x_test)"
   ]
  },
  {
   "cell_type": "code",
   "execution_count": 155,
   "metadata": {},
   "outputs": [
    {
     "data": {
      "text/plain": [
       "0.7142857142857143"
      ]
     },
     "execution_count": 155,
     "metadata": {},
     "output_type": "execute_result"
    }
   ],
   "source": [
    "accuracy_score(y_test, y_pred_rf)"
   ]
  },
  {
   "cell_type": "code",
   "execution_count": 166,
   "metadata": {
    "scrolled": true
   },
   "outputs": [
    {
     "data": {
      "image/png": "[encoded data removed]",
      "text/plain": [
       "<Figure size 432x288 with 2 Axes>"
      ]
     },
     "metadata": {
      "needs_background": "light"
     },
     "output_type": "display_data"
    }
   ],
   "source": [
    "rf_cm = confusion_matrix(y_test, y_pred_rf)\n",
    "rf_disp = ConfusionMatrixDisplay(confusion_matrix=rf_cm,\n",
    "                              display_labels=['TV','Movie'])\n",
    "\n",
    "rf_disp = rf_disp.plot(include_values=True, cmap='YlGnBu', xticks_rotation='horizontal')\n",
    "plt.show()"
   ]
  },
  {
   "cell_type": "code",
   "execution_count": 177,
   "metadata": {},
   "outputs": [
    {
     "data": {
      "image/png": "[encoded data removed]",
      "text/plain": [
       "<Figure size 1080x216 with 1 Axes>"
      ]
     },
     "metadata": {
      "needs_background": "light"
     },
     "output_type": "display_data"
    }
   ],
   "source": [
    "plt.figure(figsize=[15,3])\n",
    "plt.plot(y_pred_rf)\n",
    "plt.title('Number of TV/Movie Comparison\\n')\n",
    "plt.show()"
   ]
  },
  {
   "cell_type": "markdown",
   "metadata": {},
   "source": [
    "## Support vector machine"
   ]
  },
  {
   "cell_type": "code",
   "execution_count": 157,
   "metadata": {},
   "outputs": [],
   "source": [
    "from sklearn.svm import SVC"
   ]
  },
  {
   "cell_type": "code",
   "execution_count": 158,
   "metadata": {},
   "outputs": [],
   "source": [
    "svc = SVC(kernel='linear',C=0.025,random_state=101)\n",
    "svc = svc.fit(x_train,y_train)"
   ]
  },
  {
   "cell_type": "code",
   "execution_count": 159,
   "metadata": {},
   "outputs": [],
   "source": [
    "y_pred_svc = svc.predict(x_test)"
   ]
  },
  {
   "cell_type": "code",
   "execution_count": 160,
   "metadata": {},
   "outputs": [
    {
     "data": {
      "text/plain": [
       "0.70995670995671"
      ]
     },
     "execution_count": 160,
     "metadata": {},
     "output_type": "execute_result"
    }
   ],
   "source": [
    "accuracy_score(y_test, y_pred_svc)"
   ]
  },
  {
   "cell_type": "code",
   "execution_count": 161,
   "metadata": {},
   "outputs": [],
   "source": [
    "svc_cm = confusion_matrix(y_test, y_pred_svc)"
   ]
  },
  {
   "cell_type": "code",
   "execution_count": 162,
   "metadata": {
    "scrolled": false
   },
   "outputs": [
    {
     "data": {
      "image/png": "[encoded data removed]",
      "text/plain": [
       "<Figure size 432x288 with 2 Axes>"
      ]
     },
     "metadata": {
      "needs_background": "light"
     },
     "output_type": "display_data"
    }
   ],
   "source": [
    "svm_disp = ConfusionMatrixDisplay(confusion_matrix=svc_cm,\n",
    "                              display_labels=['TV','Movie'])\n",
    "\n",
    "svm_disp = svm_disp.plot(include_values=True, cmap='viridis', xticks_rotation='horizontal')\n",
    "plt.show()"
   ]
  },
  {
   "cell_type": "code",
   "execution_count": null,
   "metadata": {},
   "outputs": [],
   "source": []
  }
 ],
 "metadata": {
  "kernelspec": {
   "display_name": "Python 3",
   "language": "python",
   "name": "python3"
  },
  "language_info": {
   "codemirror_mode": {
    "name": "ipython",
    "version": 3
   },
   "file_extension": ".py",
   "mimetype": "text/x-python",
   "name": "python",
   "nbconvert_exporter": "python",
   "pygments_lexer": "ipython3",
   "version": "3.7.4"
  }
 },
 "nbformat": 4,
 "nbformat_minor": 2
}
